{
  "nbformat": 4,
  "nbformat_minor": 0,
  "metadata": {
    "colab": {
      "provenance": [],
      "gpuType": "T4",
      "include_colab_link": true
    },
    "kernelspec": {
      "name": "python3",
      "display_name": "Python 3"
    },
    "language_info": {
      "name": "python"
    },
    "accelerator": "GPU"
  },
  "cells": [
    {
      "cell_type": "markdown",
      "metadata": {
        "id": "view-in-github",
        "colab_type": "text"
      },
      "source": [
        "<a href=\"https://colab.research.google.com/github/sathyanarayanajammala/GenAI/blob/main/M3_MP1_NB_Text_Classification.ipynb\" target=\"_parent\"><img src=\"https://colab.research.google.com/assets/colab-badge.svg\" alt=\"Open In Colab\"/></a>"
      ]
    },
    {
      "cell_type": "markdown",
      "metadata": {
        "id": "associate-sunset"
      },
      "source": [
        "# Generative AI and Prompt Engineering\n",
        "## A program by IISc and TalentSprint\n",
        "### Mini-Project: Text Classification"
      ]
    },
    {
      "cell_type": "markdown",
      "metadata": {
        "id": "handled-tooth"
      },
      "source": [
        "## Problem Statement"
      ]
    },
    {
      "cell_type": "markdown",
      "metadata": {
        "id": "accessory-watts"
      },
      "source": [
        "Intent identification using BERT model"
      ]
    },
    {
      "cell_type": "markdown",
      "metadata": {
        "id": "twenty-indonesia"
      },
      "source": [
        "## Learning Objectives"
      ]
    },
    {
      "cell_type": "markdown",
      "metadata": {
        "id": "1ZGAsPzQAU-X"
      },
      "source": [
        "At the end of the mini-project, you will be able to :\n",
        "\n",
        "* Read the intent, questions and responses data\n",
        "* Load a pre trained BERT model\n",
        "* Fine-tune the BERT model\n",
        "* Get the predictions for each question"
      ]
    },
    {
      "cell_type": "markdown",
      "source": [
        "## Overview"
      ],
      "metadata": {
        "id": "XmHhLg-oG7nE"
      }
    },
    {
      "cell_type": "markdown",
      "source": [
        "The intent identification problem is framed as a text classification task, where a BERT model is trained to classify intent. Once the model is fine-tuned, a conversation tool is set up. For each user question, the model first predicts the intent, and a response is selected from a predefined set of responses corresponding to the predicted intent as the answer to the input question."
      ],
      "metadata": {
        "id": "E7LLrLBwG_vp"
      }
    },
    {
      "cell_type": "markdown",
      "source": [
        "## Dataset"
      ],
      "metadata": {
        "id": "4_YKaMbBfk6h"
      }
    },
    {
      "cell_type": "markdown",
      "source": [
        "Different classes of intent with a set of questions that fall into each intent and a pool of suitable responses for each intent."
      ],
      "metadata": {
        "id": "6iernY8-fuR4"
      }
    },
    {
      "cell_type": "markdown",
      "metadata": {
        "id": "operating-latter"
      },
      "source": [
        "## Grading = 10 Points"
      ]
    },
    {
      "cell_type": "code",
      "source": [
        "# prompt: Create a hidden code cell with @#title Download the Dataset. Data should be downloaded from the following link: https://cdn.exec.talentsprint.com/static/aimlops/c3/spam.csv\n",
        "\n",
        "#@title Download the Dataset\n",
        "!wget https://cdn.exec.talentsprint.com/static/aimlops/c3/Intent.json"
      ],
      "metadata": {
        "cellView": "form",
        "id": "kN8lk__J1c9r"
      },
      "execution_count": null,
      "outputs": []
    },
    {
      "cell_type": "markdown",
      "metadata": {
        "id": "appreciated-pattern"
      },
      "source": [
        "### Import Neccesary Packages"
      ]
    },
    {
      "cell_type": "code",
      "source": [
        "# Please feel free to add/remove installations here\n",
        "\n",
        "# Initial Packages\n",
        "import numpy as np\n",
        "import pandas as pd\n",
        "import matplotlib.pyplot as plt"
      ],
      "metadata": {
        "id": "4QeJbiAu1N9f"
      },
      "execution_count": null,
      "outputs": []
    },
    {
      "cell_type": "markdown",
      "source": [
        "### Read the Intent, Questions, and Response Data (1 point)"
      ],
      "metadata": {
        "id": "bHcqwrJwlFTv"
      }
    },
    {
      "cell_type": "code",
      "source": [
        "## Add your code here"
      ],
      "metadata": {
        "id": "rmgzeIgH1SQL"
      },
      "execution_count": null,
      "outputs": []
    },
    {
      "cell_type": "markdown",
      "source": [
        "### Tokenize the Questions (1 point)"
      ],
      "metadata": {
        "id": "hvHv0ry1oxGg"
      }
    },
    {
      "cell_type": "code",
      "source": [
        "## Add your code here"
      ],
      "metadata": {
        "id": "KBKajTtLoyTz"
      },
      "execution_count": null,
      "outputs": []
    },
    {
      "cell_type": "markdown",
      "source": [
        "### Create the Train Data with Tokenized Questions and Intent Labels (1 point)"
      ],
      "metadata": {
        "id": "FRJ7VObso2-r"
      }
    },
    {
      "cell_type": "code",
      "source": [
        "## Add your code here"
      ],
      "metadata": {
        "id": "tLAuVrUNp00h"
      },
      "execution_count": null,
      "outputs": []
    },
    {
      "cell_type": "markdown",
      "source": [
        "### Load a Pre-Trained BERT Model (1 point)"
      ],
      "metadata": {
        "id": "Nvz89l9Go7fX"
      }
    },
    {
      "cell_type": "code",
      "source": [
        "## Add your code here"
      ],
      "metadata": {
        "id": "HMMt6Tb8p1Rp"
      },
      "execution_count": null,
      "outputs": []
    },
    {
      "cell_type": "markdown",
      "source": [
        "### Prepare the Model to Fine-Tune (1 point)"
      ],
      "metadata": {
        "id": "pKoHAGeepHPU"
      }
    },
    {
      "cell_type": "code",
      "source": [
        "## Add your code here"
      ],
      "metadata": {
        "id": "ELAYEqN6p1q7"
      },
      "execution_count": null,
      "outputs": []
    },
    {
      "cell_type": "markdown",
      "source": [
        "### Train the Model using the Tokenized Questions and Intent Labels (1 point)"
      ],
      "metadata": {
        "id": "Mrrs6ZxrpLE5"
      }
    },
    {
      "cell_type": "code",
      "source": [
        "## Add your code here"
      ],
      "metadata": {
        "id": "AQdOUt0Ap2S8"
      },
      "execution_count": null,
      "outputs": []
    },
    {
      "cell_type": "markdown",
      "source": [
        "### Create a Function to get the Predictions for each Question (1 point)"
      ],
      "metadata": {
        "id": "m5yaxttjpaeu"
      }
    },
    {
      "cell_type": "code",
      "source": [
        "## Add your code here"
      ],
      "metadata": {
        "id": "OE9aeMVSp2zQ"
      },
      "execution_count": null,
      "outputs": []
    },
    {
      "cell_type": "markdown",
      "source": [
        "### Create a Function to Choose the Response based on the Intent Prediction (1 point)"
      ],
      "metadata": {
        "id": "rlQPxbr0piGO"
      }
    },
    {
      "cell_type": "code",
      "source": [
        "## Add your code here"
      ],
      "metadata": {
        "id": "R6tV7ST7p3Jn"
      },
      "execution_count": null,
      "outputs": []
    },
    {
      "cell_type": "markdown",
      "source": [
        "### Connect the above 2 Functions to take a Question from the User and Respond with Intent and the Answer (2 point)"
      ],
      "metadata": {
        "id": "Wa0AnSzcpoTL"
      }
    },
    {
      "cell_type": "code",
      "source": [
        "## Add your code here"
      ],
      "metadata": {
        "id": "iFwzZwn2p3i9"
      },
      "execution_count": null,
      "outputs": []
    }
  ]
}
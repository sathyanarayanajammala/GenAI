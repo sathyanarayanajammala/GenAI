{
  "nbformat": 4,
  "nbformat_minor": 0,
  "metadata": {
    "colab": {
      "provenance": [],
      "toc_visible": true,
      "include_colab_link": true
    },
    "kernelspec": {
      "name": "python3",
      "display_name": "Python 3"
    },
    "language_info": {
      "name": "python"
    }
  },
  "cells": [
    {
      "cell_type": "markdown",
      "metadata": {
        "id": "view-in-github",
        "colab_type": "text"
      },
      "source": [
        "<a href=\"https://colab.research.google.com/github/sathyanarayanajammala/GenAI/blob/main/Copy_of_20240726_GenAI_C1_PythonIntroduction_Part2.ipynb\" target=\"_parent\"><img src=\"https://colab.research.google.com/assets/colab-badge.svg\" alt=\"Open In Colab\"/></a>"
      ]
    },
    {
      "cell_type": "markdown",
      "source": [
        "# 1.Control Flow"
      ],
      "metadata": {
        "id": "a2i116uW5PJ1"
      }
    },
    {
      "cell_type": "markdown",
      "source": [
        "## 1.1.Conditional Statements\n",
        "\n",
        "* if, elif, else"
      ],
      "metadata": {
        "id": "OBsBX8cx6crF"
      }
    },
    {
      "cell_type": "code",
      "execution_count": null,
      "metadata": {
        "id": "PE0ZeFiFmO1Y",
        "colab": {
          "base_uri": "https://localhost:8080/"
        },
        "outputId": "adcbcec2-fbd1-48f4-871e-5ff60db59e6a"
      },
      "outputs": [
        {
          "output_type": "stream",
          "name": "stdout",
          "text": [
            "x is greater than 5\n"
          ]
        }
      ],
      "source": [
        "x = 10\n",
        "if x > 5:\n",
        "    print(\"x is greater than 5\")\n",
        "elif x == 5:\n",
        "    print(\"x is 5\")\n",
        "else:\n",
        "    print(\"x is less than 5\")\n"
      ]
    },
    {
      "cell_type": "markdown",
      "source": [
        "## 1.2.Loops\n",
        "\n",
        "\n",
        "* for loop\n",
        "* while loop\n",
        "* break and continue"
      ],
      "metadata": {
        "id": "LFVyzE1q6f37"
      }
    },
    {
      "cell_type": "code",
      "source": [
        "# For loop\n",
        "for i in range(5):\n",
        "    print(i)\n",
        "\n",
        "# While loop\n",
        "count = 0\n",
        "while count < 5:\n",
        "    print(count)\n",
        "    count += 1\n",
        "\n",
        "# Break and continue\n",
        "for i in range(10):\n",
        "    if i == 5:\n",
        "        break\n",
        "    if i % 2 == 0:\n",
        "        continue\n",
        "    print(i)\n"
      ],
      "metadata": {
        "colab": {
          "base_uri": "https://localhost:8080/"
        },
        "id": "vP1esAf586uY",
        "outputId": "b1250a49-b9df-4d1e-f156-cffa84015a5d"
      },
      "execution_count": null,
      "outputs": [
        {
          "output_type": "stream",
          "name": "stdout",
          "text": [
            "0\n",
            "1\n",
            "2\n",
            "3\n",
            "4\n",
            "0\n",
            "1\n",
            "2\n",
            "3\n",
            "4\n",
            "1\n",
            "3\n"
          ]
        }
      ]
    },
    {
      "cell_type": "markdown",
      "source": [
        "# 2.Functions"
      ],
      "metadata": {
        "id": "tUZ3DxVE5Rzo"
      }
    },
    {
      "cell_type": "markdown",
      "source": [
        "## 2.1.Defining Functions"
      ],
      "metadata": {
        "id": "Ce6n2Rtf6pDv"
      }
    },
    {
      "cell_type": "code",
      "source": [
        "def greet(name):\n",
        "    return f\"Hello, {name}!\"\n",
        "\n",
        "print(greet(\"Alice\"))\n"
      ],
      "metadata": {
        "colab": {
          "base_uri": "https://localhost:8080/"
        },
        "id": "sJ9gVTxy5URt",
        "outputId": "96b73582-c299-409d-859e-d813700d6750"
      },
      "execution_count": null,
      "outputs": [
        {
          "output_type": "stream",
          "name": "stdout",
          "text": [
            "Hello, Alice!\n"
          ]
        }
      ]
    },
    {
      "cell_type": "markdown",
      "source": [
        "## 2.2.Functional Arguments\n",
        "\n",
        "* Positional arguments\n",
        "* Keyword arguments\n",
        "* Default values"
      ],
      "metadata": {
        "id": "3kZmkcgK6tLq"
      }
    },
    {
      "cell_type": "code",
      "source": [
        "def add(a, b=2):\n",
        "    return a + b\n",
        "\n",
        "print(add(3, 4))  # Positional arguments\n",
        "print(add(a=3, b=4))  # Keyword arguments\n",
        "print(add(3))  # Default value for b\n"
      ],
      "metadata": {
        "colab": {
          "base_uri": "https://localhost:8080/"
        },
        "id": "yVsD111_66Ob",
        "outputId": "2d68ef65-523c-4dd8-d1a5-0053a40bda16"
      },
      "execution_count": null,
      "outputs": [
        {
          "output_type": "stream",
          "name": "stdout",
          "text": [
            "7\n",
            "7\n",
            "5\n"
          ]
        }
      ]
    },
    {
      "cell_type": "markdown",
      "source": [
        "## 2.3.Return Values"
      ],
      "metadata": {
        "id": "tvj76T-h69Zo"
      }
    },
    {
      "cell_type": "code",
      "source": [
        "def square(x):\n",
        "    return x * x\n",
        "\n",
        "result = square(5)\n",
        "print(result)\n"
      ],
      "metadata": {
        "colab": {
          "base_uri": "https://localhost:8080/"
        },
        "id": "qWKaFmEV9GWl",
        "outputId": "d49c9386-5053-480b-b3b7-753ecbb49e74"
      },
      "execution_count": null,
      "outputs": [
        {
          "output_type": "stream",
          "name": "stdout",
          "text": [
            "25\n"
          ]
        }
      ]
    },
    {
      "cell_type": "markdown",
      "source": [
        "# 3.Error Handling"
      ],
      "metadata": {
        "id": "x2NSAH4q5Uup"
      }
    },
    {
      "cell_type": "markdown",
      "source": [
        "## 3.1.Try, Except, Finally"
      ],
      "metadata": {
        "id": "nU6GWugf7JHN"
      }
    },
    {
      "cell_type": "code",
      "source": [
        "try:\n",
        "    result = 10 / 0\n",
        "except ZeroDivisionError as e:\n",
        "    print(\"Error:\", e)\n",
        "finally:\n",
        "    print(\"This block always executes\")\n"
      ],
      "metadata": {
        "colab": {
          "base_uri": "https://localhost:8080/"
        },
        "id": "oRkWV-RZ5YEY",
        "outputId": "b672a117-86df-4008-9bd8-8b5c6998b52c"
      },
      "execution_count": null,
      "outputs": [
        {
          "output_type": "stream",
          "name": "stdout",
          "text": [
            "Error: division by zero\n",
            "This block always executes\n"
          ]
        }
      ]
    },
    {
      "cell_type": "markdown",
      "source": [
        "## 3.2.Raising Exceptions"
      ],
      "metadata": {
        "id": "ghATxrkH7OF0"
      }
    },
    {
      "cell_type": "code",
      "source": [
        "def divide(a, b):\n",
        "    if b == 0:\n",
        "        raise ValueError(\"Cannot divide by zero\")\n",
        "    return a / b\n",
        "\n",
        "print(divide(10, 0))\n"
      ],
      "metadata": {
        "colab": {
          "base_uri": "https://localhost:8080/",
          "height": 297
        },
        "id": "_xgFh3Sj7RuW",
        "outputId": "48621853-56a8-45c3-960d-08e64d1abf33"
      },
      "execution_count": null,
      "outputs": [
        {
          "output_type": "error",
          "ename": "ValueError",
          "evalue": "Cannot divide by zero",
          "traceback": [
            "\u001b[0;31m---------------------------------------------------------------------------\u001b[0m",
            "\u001b[0;31mValueError\u001b[0m                                Traceback (most recent call last)",
            "\u001b[0;32m<ipython-input-10-44036fb7fdaf>\u001b[0m in \u001b[0;36m<cell line: 6>\u001b[0;34m()\u001b[0m\n\u001b[1;32m      4\u001b[0m     \u001b[0;32mreturn\u001b[0m \u001b[0ma\u001b[0m \u001b[0;34m/\u001b[0m \u001b[0mb\u001b[0m\u001b[0;34m\u001b[0m\u001b[0;34m\u001b[0m\u001b[0m\n\u001b[1;32m      5\u001b[0m \u001b[0;34m\u001b[0m\u001b[0m\n\u001b[0;32m----> 6\u001b[0;31m \u001b[0mprint\u001b[0m\u001b[0;34m(\u001b[0m\u001b[0mdivide\u001b[0m\u001b[0;34m(\u001b[0m\u001b[0;36m10\u001b[0m\u001b[0;34m,\u001b[0m \u001b[0;36m0\u001b[0m\u001b[0;34m)\u001b[0m\u001b[0;34m)\u001b[0m\u001b[0;34m\u001b[0m\u001b[0;34m\u001b[0m\u001b[0m\n\u001b[0m",
            "\u001b[0;32m<ipython-input-10-44036fb7fdaf>\u001b[0m in \u001b[0;36mdivide\u001b[0;34m(a, b)\u001b[0m\n\u001b[1;32m      1\u001b[0m \u001b[0;32mdef\u001b[0m \u001b[0mdivide\u001b[0m\u001b[0;34m(\u001b[0m\u001b[0ma\u001b[0m\u001b[0;34m,\u001b[0m \u001b[0mb\u001b[0m\u001b[0;34m)\u001b[0m\u001b[0;34m:\u001b[0m\u001b[0;34m\u001b[0m\u001b[0;34m\u001b[0m\u001b[0m\n\u001b[1;32m      2\u001b[0m     \u001b[0;32mif\u001b[0m \u001b[0mb\u001b[0m \u001b[0;34m==\u001b[0m \u001b[0;36m0\u001b[0m\u001b[0;34m:\u001b[0m\u001b[0;34m\u001b[0m\u001b[0;34m\u001b[0m\u001b[0m\n\u001b[0;32m----> 3\u001b[0;31m         \u001b[0;32mraise\u001b[0m \u001b[0mValueError\u001b[0m\u001b[0;34m(\u001b[0m\u001b[0;34m\"Cannot divide by zero\"\u001b[0m\u001b[0;34m)\u001b[0m\u001b[0;34m\u001b[0m\u001b[0;34m\u001b[0m\u001b[0m\n\u001b[0m\u001b[1;32m      4\u001b[0m     \u001b[0;32mreturn\u001b[0m \u001b[0ma\u001b[0m \u001b[0;34m/\u001b[0m \u001b[0mb\u001b[0m\u001b[0;34m\u001b[0m\u001b[0;34m\u001b[0m\u001b[0m\n\u001b[1;32m      5\u001b[0m \u001b[0;34m\u001b[0m\u001b[0m\n",
            "\u001b[0;31mValueError\u001b[0m: Cannot divide by zero"
          ]
        }
      ]
    },
    {
      "cell_type": "markdown",
      "source": [
        "# 4.Classes & Objects"
      ],
      "metadata": {
        "id": "jiB1XRGd5Ycs"
      }
    },
    {
      "cell_type": "markdown",
      "source": [
        "## 4.1.Defining Classes\n",
        "\n",
        "Classes are blueprints for creating objects. An object is an instance of a class. The __init__ method is a special method that gets called when an object is instantiated. It is used to initialize the attributes of the class."
      ],
      "metadata": {
        "id": "YFO_QOHJ7Uzk"
      }
    },
    {
      "cell_type": "code",
      "source": [
        "class Animal:\n",
        "    def __init__(self, name):\n",
        "        self.name = name\n",
        "\n",
        "animal = Animal(\"Lion\")\n",
        "print(animal.name)\n"
      ],
      "metadata": {
        "colab": {
          "base_uri": "https://localhost:8080/"
        },
        "id": "XBFlSMbF5nmm",
        "outputId": "3419901a-8197-42e2-a03d-15e6ab7ebc94"
      },
      "execution_count": null,
      "outputs": [
        {
          "output_type": "stream",
          "name": "stdout",
          "text": [
            "Lion\n"
          ]
        }
      ]
    },
    {
      "cell_type": "markdown",
      "source": [
        "In this example, Animal is a class with an __init__ method that initializes the name attribute. We create an instance of Animal called animal with the name \"Lion\" and print the name."
      ],
      "metadata": {
        "id": "WWtv9IkQ9wjl"
      }
    },
    {
      "cell_type": "markdown",
      "source": [
        "## 4.2.Attributes & Methods\n",
        "\n",
        "Attributes are variables that belong to an object, and methods are functions that belong to an object. Methods are defined inside a class and perform some action using the object's attributes."
      ],
      "metadata": {
        "id": "7dlzYcJD7YJU"
      }
    },
    {
      "cell_type": "code",
      "source": [
        "class Animal:\n",
        "    def __init__(self, name):\n",
        "        self.name = name\n",
        "\n",
        "    def speak(self):\n",
        "        return f\"{self.name} makes a sound\"\n",
        "\n",
        "animal = Animal(\"Lion\")\n",
        "print(animal.speak())\n"
      ],
      "metadata": {
        "colab": {
          "base_uri": "https://localhost:8080/"
        },
        "id": "2WFRjODY7bcY",
        "outputId": "429b3d61-d8ac-4a60-efe2-e3daed37cd8d"
      },
      "execution_count": null,
      "outputs": [
        {
          "output_type": "stream",
          "name": "stdout",
          "text": [
            "Lion makes a sound\n"
          ]
        }
      ]
    },
    {
      "cell_type": "markdown",
      "source": [
        "In this example, the Animal class has an attribute name and a method speak. The speak method returns a string that includes the name of the animal."
      ],
      "metadata": {
        "id": "fdX148Q490rT"
      }
    },
    {
      "cell_type": "markdown",
      "source": [
        "## 4.3.Inheritance\n",
        "\n",
        "Inheritance allows us to define a class that inherits all the methods and properties from another class. The parent class is the class being inherited from, also called the base class. The child class is the class that inherits from another class, also called the derived class."
      ],
      "metadata": {
        "id": "dvSZjjjA7buq"
      }
    },
    {
      "cell_type": "code",
      "source": [
        "class Animal:\n",
        "    def __init__(self, name):\n",
        "        self.name = name\n",
        "\n",
        "    def speak(self):\n",
        "        pass\n",
        "\n",
        "class Dog(Animal):\n",
        "    def speak(self):\n",
        "        return f\"{self.name} says Woof!\"\n",
        "\n",
        "class Cat(Animal):\n",
        "    def speak(self):\n",
        "        return f\"{self.name} says Meow!\"\n",
        "\n",
        "dog = Dog(\"Buddy\")\n",
        "cat = Cat(\"Kitty\")\n",
        "\n",
        "print(dog.speak())\n",
        "print(cat.speak())\n"
      ],
      "metadata": {
        "colab": {
          "base_uri": "https://localhost:8080/"
        },
        "id": "TV831P2_7cB4",
        "outputId": "8be4d9a5-cd77-46b3-ffa8-53ff50dd2b01"
      },
      "execution_count": null,
      "outputs": [
        {
          "output_type": "stream",
          "name": "stdout",
          "text": [
            "Buddy says Woof!\n",
            "Kitty says Meow!\n"
          ]
        }
      ]
    },
    {
      "cell_type": "markdown",
      "source": [
        "In this example, Animal is the parent class, and Dog and Cat are child classes that inherit from Animal. The child classes override the speak method to provide specific implementations for dogs and cats. We create instances of Dog and Cat and call their speak methods."
      ],
      "metadata": {
        "id": "q7Uu-CBP94ZS"
      }
    },
    {
      "cell_type": "markdown",
      "source": [
        "# 5.Numpy"
      ],
      "metadata": {
        "id": "QeQaGMvG5oaO"
      }
    },
    {
      "cell_type": "markdown",
      "source": [
        "## 5.1. Introduction to Numpy\n",
        "\n",
        "* Importing NumPy\n",
        "* Creating arrays\n",
        "* Array attributes"
      ],
      "metadata": {
        "id": "V5CE0bbt7iYb"
      }
    },
    {
      "cell_type": "code",
      "source": [
        "import numpy as np\n",
        "\n",
        "# Creating arrays\n",
        "array = np.array([1, 2, 3, 4, 5])\n",
        "matrix = np.array([[1, 2, 3], [4, 5, 6]])\n",
        "\n",
        "print(\"Array:\", array)\n",
        "print(\"Matrix:\", matrix)\n"
      ],
      "metadata": {
        "colab": {
          "base_uri": "https://localhost:8080/"
        },
        "id": "_pd7sq_35scN",
        "outputId": "e88a860b-5da8-4b7f-a8d6-770e5b1ba8a9"
      },
      "execution_count": null,
      "outputs": [
        {
          "output_type": "stream",
          "name": "stdout",
          "text": [
            "Array: [1 2 3 4 5]\n",
            "Matrix: [[1 2 3]\n",
            " [4 5 6]]\n"
          ]
        }
      ]
    },
    {
      "cell_type": "markdown",
      "source": [
        "## 5.2.Array Operations\n",
        "\n",
        "* Element-wise operations\n",
        "* Aggregation functions"
      ],
      "metadata": {
        "id": "j3hmAINR7qcE"
      }
    },
    {
      "cell_type": "code",
      "source": [
        "array = np.array([1, 2, 3, 4, 5])\n",
        "\n",
        "# Element-wise operations\n",
        "print(\"Array + 2:\", array + 2)\n",
        "print(\"Array * 2:\", array * 2)\n",
        "\n",
        "# Aggregation functions\n",
        "print(\"Sum:\", np.sum(array))\n",
        "print(\"Mean:\", np.mean(array))\n",
        "print(\"Standard Deviation:\", np.std(array))\n"
      ],
      "metadata": {
        "colab": {
          "base_uri": "https://localhost:8080/"
        },
        "id": "UPlZZqhM7vYk",
        "outputId": "a7d45cba-c902-4478-eb17-b2e57ca43dfc"
      },
      "execution_count": null,
      "outputs": [
        {
          "output_type": "stream",
          "name": "stdout",
          "text": [
            "Array + 2: [3 4 5 6 7]\n",
            "Array * 2: [ 2  4  6  8 10]\n",
            "Sum: 15\n",
            "Mean: 3.0\n",
            "Standard Deviation: 1.4142135623730951\n"
          ]
        }
      ]
    },
    {
      "cell_type": "markdown",
      "source": [
        "## 5.3.Indexing & Slicing\n",
        "\n",
        "* Basic indexing and slicing\n",
        "* Boolean indexing"
      ],
      "metadata": {
        "id": "aBQvbHpp7wqe"
      }
    },
    {
      "cell_type": "code",
      "source": [
        "array = np.array([1, 2, 3, 4, 5])\n",
        "\n",
        "# Basic indexing and slicing\n",
        "print(\"First element:\", array[0])\n",
        "print(\"Last element:\", array[-1])\n",
        "print(\"Slice:\", array[1:4])\n",
        "\n",
        "# Boolean indexing\n",
        "print(\"Elements greater than 2:\", array[array > 2])\n"
      ],
      "metadata": {
        "colab": {
          "base_uri": "https://localhost:8080/"
        },
        "id": "Ie0F6w9t72kH",
        "outputId": "89686bd9-0770-4a3b-f551-8e1c3c0c2f09"
      },
      "execution_count": null,
      "outputs": [
        {
          "output_type": "stream",
          "name": "stdout",
          "text": [
            "First element: 1\n",
            "Last element: 5\n",
            "Slice: [2 3 4]\n",
            "Elements greater than 2: [3 4 5]\n"
          ]
        }
      ]
    },
    {
      "cell_type": "markdown",
      "source": [
        "## 5.4.Array Manipulation\n",
        "\n",
        "* Reshaping arrays\n",
        "* Concatenation and splitting"
      ],
      "metadata": {
        "id": "1hpDUVSY72z6"
      }
    },
    {
      "cell_type": "code",
      "source": [
        "array = np.array([1, 2, 3, 4, 5, 6])\n",
        "\n",
        "# Reshaping arrays\n",
        "reshaped = array.reshape(2, 3)\n",
        "print(\"Reshaped array:\\n\", reshaped)\n",
        "\n",
        "# Concatenation\n",
        "array1 = np.array([1, 2])\n",
        "array2 = np.array([3, 4])\n",
        "concatenated = np.concatenate((array1, array2))\n",
        "print(\"Concatenated array:\", concatenated)\n",
        "\n",
        "# Splitting\n",
        "split = np.split(array, 2)\n",
        "print(\"Split arrays:\", split)\n"
      ],
      "metadata": {
        "colab": {
          "base_uri": "https://localhost:8080/"
        },
        "id": "BcHapxXn76vZ",
        "outputId": "089301f3-d445-4c2e-c028-31cba0c69605"
      },
      "execution_count": null,
      "outputs": [
        {
          "output_type": "stream",
          "name": "stdout",
          "text": [
            "Reshaped array:\n",
            " [[1 2 3]\n",
            " [4 5 6]]\n",
            "Concatenated array: [1 2 3 4]\n",
            "Split arrays: [array([1, 2, 3]), array([4, 5, 6])]\n"
          ]
        }
      ]
    },
    {
      "cell_type": "markdown",
      "source": [
        "# 6.Pandas\n",
        "\n",
        "* Importing Pandas\n",
        "* Creating DataFrames and Series"
      ],
      "metadata": {
        "id": "koikFhSw5tA9"
      }
    },
    {
      "cell_type": "markdown",
      "source": [
        "## 6.1.Introduction to Pandas"
      ],
      "metadata": {
        "id": "gb0Y74Wd79GA"
      }
    },
    {
      "cell_type": "code",
      "source": [
        "import pandas as pd\n",
        "\n",
        "# Creating a Series\n",
        "series = pd.Series([1, 2, 3, 4, 5])\n",
        "print(\"Series:\\n\", series)\n",
        "\n",
        "# Creating a DataFrame\n",
        "data = {'Name': ['Alice', 'Bob', 'Charlie'],\n",
        "        'Age': [25, 30, 35],\n",
        "        'City': ['New York', 'San Francisco', 'Los Angeles']}\n",
        "df = pd.DataFrame(data)\n",
        "print(\"DataFrame:\\n\", df)\n"
      ],
      "metadata": {
        "colab": {
          "base_uri": "https://localhost:8080/"
        },
        "id": "LygHhKes5t-c",
        "outputId": "36f60230-102b-4716-a6a9-3237f7f6bae7"
      },
      "execution_count": null,
      "outputs": [
        {
          "output_type": "stream",
          "name": "stdout",
          "text": [
            "Series:\n",
            " 0    1\n",
            "1    2\n",
            "2    3\n",
            "3    4\n",
            "4    5\n",
            "dtype: int64\n",
            "DataFrame:\n",
            "       Name  Age           City\n",
            "0    Alice   25       New York\n",
            "1      Bob   30  San Francisco\n",
            "2  Charlie   35    Los Angeles\n"
          ]
        }
      ]
    },
    {
      "cell_type": "markdown",
      "source": [
        "## 6.2.Dataframe Operations\n",
        "\n",
        "* Viewing data\n",
        "* Selecting data (loc, iloc)"
      ],
      "metadata": {
        "id": "FCtB0EG_7_X5"
      }
    },
    {
      "cell_type": "code",
      "source": [
        "# Viewing data\n",
        "print(\"First 2 rows:\\n\", df.head(2))\n",
        "print(\"Data types:\\n\", df.dtypes)\n",
        "\n",
        "# Selecting data\n",
        "print(\"Selecting 'Name' column:\\n\", df['Name'])\n",
        "print(\"Selecting rows using loc:\\n\", df.loc[0])\n",
        "print(\"Selecting rows using iloc:\\n\", df.iloc[0])\n"
      ],
      "metadata": {
        "colab": {
          "base_uri": "https://localhost:8080/"
        },
        "id": "NiGXfeJ38Dt3",
        "outputId": "bffd7e01-0ee5-43a9-9046-ca05ee6f04f4"
      },
      "execution_count": null,
      "outputs": [
        {
          "output_type": "stream",
          "name": "stdout",
          "text": [
            "First 2 rows:\n",
            "     Name  Age           City\n",
            "0  Alice   25       New York\n",
            "1    Bob   30  San Francisco\n",
            "Data types:\n",
            " Name    object\n",
            "Age      int64\n",
            "City    object\n",
            "dtype: object\n",
            "Selecting 'Name' column:\n",
            " 0      Alice\n",
            "1        Bob\n",
            "2    Charlie\n",
            "Name: Name, dtype: object\n",
            "Selecting rows using loc:\n",
            " Name       Alice\n",
            "Age           25\n",
            "City    New York\n",
            "Name: 0, dtype: object\n",
            "Selecting rows using iloc:\n",
            " Name       Alice\n",
            "Age           25\n",
            "City    New York\n",
            "Name: 0, dtype: object\n"
          ]
        }
      ]
    },
    {
      "cell_type": "markdown",
      "source": [
        "## 6.3.Data Cleaning\n",
        "\n",
        "* Handling missing values\n",
        "* Dropping duplicates"
      ],
      "metadata": {
        "id": "DBAnox9E8D-R"
      }
    },
    {
      "cell_type": "code",
      "source": [
        "df_with_nan = df.copy()\n",
        "df_with_nan.loc[1, 'Age'] = None\n",
        "\n",
        "# Handling missing values\n",
        "print(\"With missing values:\\n\", df_with_nan)\n",
        "print(\"Drop missing values:\\n\", df_with_nan.dropna())\n",
        "print(\"Fill missing values:\\n\", df_with_nan.fillna(0))\n",
        "\n",
        "# Adding duplicates using pd.concat\n",
        "df_with_duplicates = pd.concat([df, df.iloc[0:1]], ignore_index=True)\n",
        "print(\"With duplicates:\\n\", df_with_duplicates)\n",
        "\n",
        "# Dropping duplicates\n",
        "print(\"Drop duplicates:\\n\", df_with_duplicates.drop_duplicates())\n"
      ],
      "metadata": {
        "colab": {
          "base_uri": "https://localhost:8080/"
        },
        "id": "iTc5cJ8r8IXb",
        "outputId": "c8a3eb68-358d-4946-a07f-c570f317a95c"
      },
      "execution_count": null,
      "outputs": [
        {
          "output_type": "stream",
          "name": "stdout",
          "text": [
            "With missing values:\n",
            "       Name   Age           City\n",
            "0    Alice  25.0       New York\n",
            "1      Bob   NaN  San Francisco\n",
            "2  Charlie  35.0    Los Angeles\n",
            "Drop missing values:\n",
            "       Name   Age         City\n",
            "0    Alice  25.0     New York\n",
            "2  Charlie  35.0  Los Angeles\n",
            "Fill missing values:\n",
            "       Name   Age           City\n",
            "0    Alice  25.0       New York\n",
            "1      Bob   0.0  San Francisco\n",
            "2  Charlie  35.0    Los Angeles\n",
            "With duplicates:\n",
            "       Name  Age           City\n",
            "0    Alice   25       New York\n",
            "1      Bob   30  San Francisco\n",
            "2  Charlie   35    Los Angeles\n",
            "3    Alice   25       New York\n",
            "Drop duplicates:\n",
            "       Name  Age           City\n",
            "0    Alice   25       New York\n",
            "1      Bob   30  San Francisco\n",
            "2  Charlie   35    Los Angeles\n"
          ]
        }
      ]
    },
    {
      "cell_type": "markdown",
      "source": [
        "## 6.4.Data Aggregation\n",
        "\n",
        "* Grouping data\n",
        "* Aggregation functions"
      ],
      "metadata": {
        "id": "5GvBl9jl8I5Z"
      }
    },
    {
      "cell_type": "code",
      "source": [
        "grouped = df.groupby('City')['Age'].mean()\n",
        "print(\"Grouped by city:\\n\", grouped)\n",
        "\n",
        "# Aggregation functions\n",
        "print(\"Sum of ages:\\n\", df['Age'].sum())\n",
        "print(\"Mean age:\\n\", df['Age'].mean())\n"
      ],
      "metadata": {
        "colab": {
          "base_uri": "https://localhost:8080/"
        },
        "id": "3kvTyTw58Lkg",
        "outputId": "22c3794c-4f9a-4e64-b0c9-b8b05b58f073"
      },
      "execution_count": null,
      "outputs": [
        {
          "output_type": "stream",
          "name": "stdout",
          "text": [
            "Grouped by city:\n",
            " City\n",
            "Los Angeles      35.0\n",
            "New York         25.0\n",
            "San Francisco    30.0\n",
            "Name: Age, dtype: float64\n",
            "Sum of ages:\n",
            " 90\n",
            "Mean age:\n",
            " 30.0\n"
          ]
        }
      ]
    },
    {
      "cell_type": "markdown",
      "source": [
        "# 7.Plotting"
      ],
      "metadata": {
        "id": "3C27vVPL5uct"
      }
    },
    {
      "cell_type": "markdown",
      "source": [
        "## 7.1.Matplotlib Basics\n",
        "\n",
        "* Simple plots\n",
        "* Customizing plots"
      ],
      "metadata": {
        "id": "xWEq6ACb8Mm8"
      }
    },
    {
      "cell_type": "code",
      "source": [
        "import matplotlib.pyplot as plt\n",
        "\n",
        "# Simple plot\n",
        "x = [1, 2, 3, 4, 5]\n",
        "y = [1, 4, 9, 16, 25]\n",
        "plt.plot(x, y)\n",
        "plt.xlabel('X-axis')\n",
        "plt.ylabel('Y-axis')\n",
        "plt.title('Simple Plot')\n",
        "plt.show()\n",
        "\n",
        "# Customizing plot\n",
        "plt.plot(x, y, 'ro-', label='Squared Values')\n",
        "plt.xlabel('X-axis')\n",
        "plt.ylabel('Y-axis')\n",
        "plt.title('Customized Plot')\n",
        "plt.legend()\n",
        "plt.grid(True)\n",
        "plt.show()\n"
      ],
      "metadata": {
        "colab": {
          "base_uri": "https://localhost:8080/",
          "height": 927
        },
        "id": "4t8TB0Uq5wmt",
        "outputId": "af3b127d-7146-4afe-8531-cc1661d36f6f"
      },
      "execution_count": null,
      "outputs": [
        {
          "output_type": "display_data",
          "data": {
            "text/plain": [
              "<Figure size 640x480 with 1 Axes>"
            ],
            "image/png": "[encoded data removed]"
          },
          "metadata": {}
        },
        {
          "output_type": "display_data",
          "data": {
            "text/plain": [
              "<Figure size 640x480 with 1 Axes>"
            ],
            "image/png": "[encoded data removed]"
          },
          "metadata": {}
        }
      ]
    },
    {
      "cell_type": "markdown",
      "source": [
        "## 7.2.Pandas Plotting\n",
        "\n",
        "* Plotting directly from DataFrame"
      ],
      "metadata": {
        "id": "TKm8_om28P6m"
      }
    },
    {
      "cell_type": "code",
      "source": [
        "df['Age'].plot(kind='bar')\n",
        "plt.xlabel('Index')\n",
        "plt.ylabel('Age')\n",
        "plt.title('Bar Plot of Ages')\n",
        "plt.show()\n",
        "\n",
        "df.plot(x='Name', y='Age', kind='line')\n",
        "plt.xlabel('Name')\n",
        "plt.ylabel('Age')\n",
        "plt.title('Line Plot of Ages')\n",
        "plt.show()\n"
      ],
      "metadata": {
        "colab": {
          "base_uri": "https://localhost:8080/",
          "height": 922
        },
        "id": "Pgg1uuiI8SQI",
        "outputId": "7e58a3bf-2318-4e19-d455-159376cc25d5"
      },
      "execution_count": null,
      "outputs": [
        {
          "output_type": "display_data",
          "data": {
            "text/plain": [
              "<Figure size 640x480 with 1 Axes>"
            ],
            "image/png": "[encoded data removed]"
          },
          "metadata": {}
        },
        {
          "output_type": "display_data",
          "data": {
            "text/plain": [
              "<Figure size 640x480 with 1 Axes>"
            ],
            "image/png": "[encoded data removed]"
          },
          "metadata": {}
        }
      ]
    },
    {
      "cell_type": "markdown",
      "source": [
        "## 7.3.Seaborn for Advanced Plotting\n",
        "\n",
        "* Introduction to Seaborn\n",
        "* Example plots"
      ],
      "metadata": {
        "id": "EG5nnusV8SuW"
      }
    },
    {
      "cell_type": "code",
      "source": [
        "import seaborn as sns\n",
        "\n",
        "# Scatter plot with Seaborn\n",
        "sns.scatterplot(x='Age', y='Name', data=df)\n",
        "plt.xlabel('Age')\n",
        "plt.ylabel('Name')\n",
        "plt.title('Scatter Plot of Ages')\n",
        "plt.show()\n",
        "\n",
        "# Box plot with Seaborn\n",
        "sns.boxplot(x='City', y='Age', data=df)\n",
        "plt.xlabel('City')\n",
        "plt.ylabel('Age')\n",
        "plt.title('Box Plot of Ages by City')\n",
        "plt.show()\n"
      ],
      "metadata": {
        "colab": {
          "base_uri": "https://localhost:8080/",
          "height": 927
        },
        "id": "wQm7Ewv88Xcb",
        "outputId": "ff617b6d-9a6a-4a32-a6ca-88f52ad1e0c3"
      },
      "execution_count": null,
      "outputs": [
        {
          "output_type": "display_data",
          "data": {
            "text/plain": [
              "<Figure size 640x480 with 1 Axes>"
            ],
            "image/png": "[encoded data removed]"
          },
          "metadata": {}
        },
        {
          "output_type": "display_data",
          "data": {
            "text/plain": [
              "<Figure size 640x480 with 1 Axes>"
            ],
            "image/png": "[encoded data removed]"
          },
          "metadata": {}
        }
      ]
    },
    {
      "cell_type": "code",
      "source": [],
      "metadata": {
        "id": "DNVVrtwAAYHX"
      },
      "execution_count": null,
      "outputs": []
    }
  ]
}
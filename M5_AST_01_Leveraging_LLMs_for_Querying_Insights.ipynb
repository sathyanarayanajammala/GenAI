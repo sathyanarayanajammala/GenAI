{
  "nbformat": 4,
  "nbformat_minor": 0,
  "metadata": {
    "colab": {
      "provenance": [],
      "toc_visible": true,
      "include_colab_link": true
    },
    "kernelspec": {
      "name": "python3",
      "display_name": "Python 3"
    },
    "language_info": {
      "name": "python"
    }
  },
  "cells": [
    {
      "cell_type": "markdown",
      "metadata": {
        "id": "view-in-github",
        "colab_type": "text"
      },
      "source": [
        "<a href=\"https://colab.research.google.com/github/sathyanarayanajammala/GenAI/blob/main/M5_AST_01_Leveraging_LLMs_for_Querying_Insights.ipynb\" target=\"_parent\"><img src=\"https://colab.research.google.com/assets/colab-badge.svg\" alt=\"Open In Colab\"/></a>"
      ]
    },
    {
      "cell_type": "markdown",
      "metadata": {
        "id": "hNgLag1Euy3H"
      },
      "source": [
        "# Generative AI and Prompt Engineering\n",
        "## A programme by IISc and TalentSprint\n",
        "### Assignment 1: Leveraging LLMs for Querying Insights"
      ]
    },
    {
      "cell_type": "markdown",
      "metadata": {
        "id": "-tdtrlAhvIHY"
      },
      "source": [
        "\n",
        "# **1.Abstract**\n",
        "\n",
        "### **LLMs with Financial Data for Demonstration Purposes**\n",
        "\n",
        "#### **Project Title**:  \n",
        "**Leveraging LLMs for Querying Structured Financial Data: A Hands-On Demonstration**\n",
        "\n",
        "---\n",
        "\n",
        "#### **Objective**:\n",
        "The primary objective of this project is to help participants explore how Large Language Models (LLMs) can be integrated with structured financial data, specifically focusing on the Nifty 50 companies. The project is designed to show how LLMs can automatically interpret user queries, generate SQL queries, and provide insights in a dynamic and automated way. The core goal is for participants to understand how LLMs can be effectively leveraged to interact with databases, generate insights, and simulate complex query-response flows.\n",
        "\n",
        "This project is more focused on **understanding the technical workflow of integrating LLMs with data systems**, rather than solving real-world financial problems.\n",
        "\n",
        "---\n",
        "\n",
        "### **Project Motivation**:\n",
        "\n",
        "1. **LLM Familiarity with Financial Data**: Financial data (like the stock market, income statements, etc.) is a domain LLMs are often trained on. This helps participants focus on how to work with LLMs rather than needing to explain or teach the model about new datasets. The project avoids the complexity of handling completely custom or proprietary data.\n",
        "  \n",
        "2. **Hands-On Learning of LLM Workflow**: Participants will learn to build an AI system that can:\n",
        "   - Understand and interpret natural language queries.\n",
        "   - Convert user input into database queries.\n",
        "   - Summarize and provide insights based on structured data.\n",
        "   The focus is on mastering how LLMs interact with structured datasets, rather than interpreting or solving domain-specific financial problems.\n",
        "\n",
        "---\n",
        "\n",
        "### **Learning Outcomes for Participants**:\n",
        "\n",
        "By the end of the project, participants will:\n",
        "1. Understand how **LLMs can be integrated with structured datasets** like SQL databases.\n",
        "2. Learn how to **generate SQL queries dynamically** from user input, based on an LLM's understanding of the dataset.\n",
        "3. Gain experience with **Python code generation** to automate data analysis (e.g., summarizing trends, calculating metrics).\n",
        "4. Understand how to **handle different types of user queries**, from relevant financial questions to irrelevant or out-of-scope ones.\n",
        "5. Explore how **LLMs suggest follow-up questions** to guide the user through data exploration.\n",
        "   \n",
        "The emphasis is on **understanding the process and architecture** for LLM-driven applications rather than domain expertise in finance.\n",
        "\n",
        "---\n",
        "\n",
        "### **Project Flow**:\n",
        "\n",
        "Each query a user makes will follow one of three paths, depending on the nature of the request. The flow is designed to simulate real-world interaction with LLM-driven systems but is tailored to demonstrate how the technology works with structured data.\n",
        "\n",
        "1. **Path 1**:  \n",
        "   **For Queries Needing Data Access and Insights**  \n",
        "   These queries require retrieving data from the database, running additional analysis, and summarizing insights.  \n",
        "   - **Steps**: LLM generates an SQL query → Retrieves data from the database → Python code for analysis → Insight generation → Suggestions for next steps.\n",
        "   \n",
        "   **Learning Focus**:  \n",
        "   Participants will learn how an LLM dynamically creates SQL queries and generates meaningful outputs from structured data.\n",
        "\n",
        "2. **Path 2**:  \n",
        "   **For Exploratory or Informational Questions**  \n",
        "   These queries are more exploratory and don’t require accessing data, like asking about the available dataset or metadata.  \n",
        "   - **Steps**: LLM responds directly based on its understanding → Offers suggestions for further exploration.\n",
        "\n",
        "   **Learning Focus**:  \n",
        "   Participants will learn how to leverage LLMs for general conversation-style queries and data exploration without needing heavy data processing.\n",
        "\n",
        "3. **Path 3**:  \n",
        "   **For Out-of-Scope or Irrelevant Questions**  \n",
        "   Queries that are outside the scope of the system (e.g., \"What is the weather today?\").  \n",
        "   - **Steps**: LLM generates a polite response indicating the question is out of scope → Suggests relevant questions within the system’s scope.\n",
        "\n",
        "   **Learning Focus**:  \n",
        "   Participants will see how LLMs can be guided to handle irrelevant or off-topic questions by constraining the scope of the system.\n",
        "\n",
        "---\n",
        "\n",
        "### **Key Technical Areas to Explore**:\n",
        "\n",
        "1. **Natural Language Understanding (NLU)**:  \n",
        "   Participants will observe how the LLM processes and interprets natural language, mapping it to structured data.\n",
        "   \n",
        "2. **Automated SQL Query Generation**:  \n",
        "   The system will teach participants how LLMs convert natural language into structured queries (SQL), extracting insights from a database automatically.\n",
        "   \n",
        "3. **Python Code Generation for Analysis**:  \n",
        "   The LLM will also generate Python code snippets for analyzing the retrieved data (e.g., calculating trends, generating summaries), helping participants learn how code can be dynamically generated and executed.\n",
        "\n",
        "4. **Query Handling Workflow**:  \n",
        "   The project will guide participants on how to handle different types of queries — from data-driven insights to exploratory questions and out-of-scope responses — ensuring a smooth, structured conversation flow with the user.\n",
        "\n",
        "5. **Suggestion Mechanisms**:  \n",
        "   Participants will explore how LLMs suggest follow-up questions to keep the user engaged, guiding them through additional questions that the system can handle.\n",
        "\n",
        "---\n",
        "\n",
        "### **Technical Stack**:\n",
        "\n",
        "1. **LLM**: Pre-trained large language models (e.g., GPT-4) for query interpretation and code generation.\n",
        "2. **SQL Database**: Storing structured data (e.g., Nifty 50 financial data) that can be queried based on user requests.\n",
        "3. **Python**: Used for data manipulation and analysis (with libraries like pandas), allowing the system to generate insights from the raw data.\n",
        "4. **APIs/Integrations**: Used to interface between the LLM, SQL database, and Python execution environment.\n",
        "\n",
        "---\n",
        "\n",
        "### **Key Considerations**:\n",
        "\n",
        "- **Not Focused on Domain-Specific Problem Solving**:  \n",
        "  The goal is not to build a financial analysis tool for real-world use but to showcase the **workflow of integrating LLMs with structured data**. Participants won’t need deep financial knowledge but will focus on understanding how the system processes data queries.\n",
        "\n",
        "- **Reusability Across Domains**:  \n",
        "  Though this project uses financial data, the principles and workflows demonstrated are applicable across multiple domains, helping participants see how LLMs can be employed in other structured data scenarios like healthcare, retail, or logistics.\n",
        "\n",
        "---\n",
        "\n",
        "### **Conclusion**:\n",
        "\n",
        "This project is designed to give participants hands-on experience with **LLM-driven architectures** in structured data environments. By working with financial data, participants will gain valuable insights into how LLMs can generate SQL queries, automate Python code for analysis, and manage different types of user queries. The primary learning outcome is understanding **how to integrate LLMs with structured data** for dynamic query handling and insight generation.\n",
        "\n",
        "This approach emphasizes technical skill-building and system design over domain-specific problem-solving, making it an ideal introduction to the use of LLMs in data-driven applications."
      ]
    },
    {
      "cell_type": "markdown",
      "source": [
        "# **2.Architecture**"
      ],
      "metadata": {
        "id": "1YEjiSOzByVX"
      }
    },
    {
      "cell_type": "markdown",
      "source": [
        "\n",
        "\n",
        "<img src='https://drive.google.com/uc?id=1vlkHv_d0MNDK_P-SnKGLMXvRidXaa8sS'>\n",
        "\n",
        "[For enlarged view click [here](https://drive.google.com/uc?id=1vlkHv_d0MNDK_P-SnKGLMXvRidXaa8sS)]"
      ],
      "metadata": {
        "id": "TLZQS_jVBz4L"
      }
    },
    {
      "cell_type": "markdown",
      "source": [
        "**Architecture Components:**\n",
        "\n",
        "- **User Input:** Text input / request from user\n",
        "\n",
        "- **Thought Stage:** Depending on the request from user it will be diverted to different chains which are\n",
        "  - SQL based request,\n",
        "  - Non SQL based request, or\n",
        "  - Request Not in the context.\n",
        "\n",
        "- **Query Generation:** If the user request is identified as SQL based, then in this stage use an LLM to generate the SQL query. The LLM shouold identify the relevant table, cloumn/variable names, conditions for filtering, and construct the final query.\n",
        "\n",
        "- **Process Query:** Once the query is generated, use it to get the data from database.\n",
        "\n",
        "- **Insight Generation:** With the data received from database, use an LLM to generate code to do further aggregation, plotting, etc to fulfill the user request.\n",
        "\n",
        "- **Summarize Insight:** Generate summary of the data and aggregations.\n",
        "\n",
        "- **Generate Suggestions:** Generate suggestions to help user for next request.\n",
        "\n",
        "- **Final Output:** Return insights, summary, and suggestions.\n"
      ],
      "metadata": {
        "id": "jNgHAUH8B89x"
      }
    },
    {
      "cell_type": "markdown",
      "source": [
        "## 2.a.Understanding the architecure\n",
        "\n",
        "### 1. **User Input**:\n",
        "   - **Purpose**: This is the entry point where the user asks a question or gives a command.\n",
        "   - **Key Function**: Accepts natural language input from the user, which can vary from SQL-based questions (e.g., \"What is the revenue of Company X in 2023?\"), non-SQL exploratory questions (e.g., \"What data do you have?\"), or irrelevant/off-topic questions (e.g., \"What’s the weather today?\").\n",
        "\n",
        "### 2. **Thought Process**:\n",
        "   - **Purpose**: Determines the nature of the user's query and selects the appropriate path based on whether the query is SQL-based, non-SQL based, or irrelevant (outside the project’s scope).\n",
        "   - **Components**:\n",
        "     1. **SQL-based**: If the query is asking for data insights that require access to the database, this route is taken.\n",
        "     2. **Non-SQL based**: For more exploratory questions, such as asking about the structure or type of data available.\n",
        "     3. **Not in the context**: If the question is irrelevant to the system’s capabilities, this route is taken to guide the user towards more relevant inquiries.\n",
        "\n",
        "### 3. **Query Generation**:\n",
        "   - **Purpose**: For SQL-based queries, this stage is responsible for generating an appropriate SQL query.\n",
        "   - **Components**:\n",
        "     1. **Identify the Table**: Determines which table from the database (e.g., income statement, balance sheet) is relevant based on the user’s input.\n",
        "     2. **Identify the Variables, Conditions, and Values**: Maps the user’s query to specific variables (like revenue, profit) and conditions (e.g., a date range or company name).\n",
        "     3. **Construct the Query**: Once the table, variables, and conditions are identified, the system constructs the SQL query to retrieve the relevant data.\n",
        "   - **LLM’s Role**: The LLM plays a significant role here in understanding natural language and converting it into structured SQL queries.\n",
        "\n",
        "### 4. **Process Query**:\n",
        "   - **Purpose**: This stage runs the generated SQL query to fetch data from the database.\n",
        "   - **Key Function**: Executes the SQL query and retrieves the relevant data from the database (e.g., daily prices, quarterly income statements).\n",
        "\n",
        "### 5. **Insight Generation**:\n",
        "   - **Purpose**: Processes the data and generates meaningful insights based on the retrieved data.\n",
        "   - **Components**:\n",
        "     1. **Generate Code for Aggregations**: For deeper analysis, the system may need to perform aggregations (e.g., calculating averages, growth rates) using Python code.\n",
        "     2. **Generating Insights**: After aggregations, the system interprets the data and generates insights such as trends, summaries, or performance analysis.\n",
        "   - **LLM’s Role**: The LLM assists in generating Python code snippets to perform these analyses, ensuring the insights are coherent and aligned with the user’s question.\n",
        "\n",
        "### 6. **Summarize Insight**:\n",
        "   - **Purpose**: This step creates a user-friendly summary of the insights derived from the data.\n",
        "   - **Key Function**: Takes the insights generated from the previous step and presents them in a concise, understandable format, ensuring that users can easily interpret the results.\n",
        "\n",
        "### 7. **Generate Suggestions**:\n",
        "   - **Purpose**: Keeps the user engaged by offering suggestions for follow-up queries.\n",
        "   - **Key Function**: The LLM suggests possible next questions or data points the user may want to explore further, guiding the conversation based on previous interactions.\n",
        "\n",
        "### 8. **Final Output**:\n",
        "   - **Purpose**: Presents the final response to the user, based on the path the query took.\n",
        "   - **Possible Outputs**:\n",
        "     1. **Return: SQL-Based**: Provides the insights and summary derived from querying the database and offers additional suggestions for further inquiry.\n",
        "     2. **Return: Non-SQL based**: For exploratory questions, the system responds directly without accessing the database and still provides suggestions for follow-up.\n",
        "     3. **Return: Not in the Context**: For irrelevant or out-of-scope queries, the system returns suggestions to reorient the user towards meaningful questions related to the data.\n",
        "\n",
        "---\n",
        "\n",
        "### **How the LLM is Used at Each Stage**:\n",
        "1. **Query Understanding**: The LLM interprets natural language input, understanding the user’s intent and mapping it to SQL-based or non-SQL based processes.\n",
        "2. **SQL Query Generation**: For SQL-based queries, the LLM constructs queries based on its understanding of the database schema and user’s request.\n",
        "3. **Python Code Generation**: During insight generation, the LLM dynamically generates Python code for deeper data analysis.\n",
        "4. **Summarization and Suggestions**: The LLM summarizes data-driven insights and engages users by suggesting next possible questions based on the current conversation.\n",
        "\n",
        "---\n",
        "\n",
        "### **Paths Based on Query Type**:\n",
        "- **SQL-Based Path**: Involves query generation, data processing, insight generation, summarization, and suggestions. The system returns both the insight and suggestions.\n",
        "- **Non-SQL Based Path**: Involves direct responses to general questions (like \"What data do you have?\"), with suggestions for further exploration.\n",
        "- **Out-of-Scope Path**: For irrelevant queries (like \"What’s the weather?\"), the system responds with suggestions to guide the user back to relevant data queries.\n",
        "\n",
        "---"
      ],
      "metadata": {
        "id": "8OOWvDqVZIZX"
      }
    },
    {
      "cell_type": "markdown",
      "source": [
        "# 3.Setup Steps:"
      ],
      "metadata": {
        "id": "rKQ0Fvl_jNqU"
      }
    },
    {
      "cell_type": "code",
      "execution_count": null,
      "metadata": {
        "id": "Z4UlAXa6hWqZ"
      },
      "outputs": [],
      "source": [
        "#@title Please enter your registration id to start: { run: \"auto\", display-mode: \"form\" }\n",
        "Id = \"\" #@param {type:\"string\"}"
      ]
    },
    {
      "cell_type": "code",
      "execution_count": null,
      "metadata": {
        "id": "8mAxYYRyhWq3"
      },
      "outputs": [],
      "source": [
        "#@title Please enter your password (your registered phone number) to continue: { run: \"auto\", display-mode: \"form\" }\n",
        "password = \"\" #@param {type:\"string\"}"
      ]
    },
    {
      "cell_type": "code",
      "execution_count": null,
      "metadata": {
        "cellView": "form",
        "id": "2P_-RHtFhWq3"
      },
      "outputs": [],
      "source": [
        "#@title Run this cell to complete the setup for this Notebook\n",
        "from IPython import get_ipython\n",
        "\n",
        "ipython = get_ipython()\n",
        "\n",
        "notebook= \"M5_AST_01_Leveraging_LLMs_for_Querying_Insights\" #name of the notebook\n",
        "\n",
        "def setup():\n",
        "#  ipython.magic(\"sx pip3 install torch\")\n",
        "\n",
        "    ipython.magic(\"sx gdown https://drive.google.com/uc?id=1c3eVGtfBlg9slenmz_DJkJJlH0zwKzlZ\")\n",
        "    ipython.magic(\"sx gdown https://drive.google.com/uc?id=1U8p04e43oHFh_tx-nNy5AGxmQtceBEqn\")\n",
        "    from IPython.display import HTML, display\n",
        "    display(HTML('<script src=\"https://dashboard.talentsprint.com/aiml/record_ip.html?traineeId={0}&recordId={1}\"></script>'.format(getId(),submission_id)))\n",
        "    print(\"Setup completed successfully\")\n",
        "    return\n",
        "\n",
        "def submit_notebook():\n",
        "    ipython.magic(\"notebook -e \"+ notebook + \".ipynb\")\n",
        "\n",
        "    import requests, json, base64, datetime\n",
        "\n",
        "    url = \"https://dashboard.talentsprint.com/xp/app/save_notebook_attempts\"\n",
        "    if not submission_id:\n",
        "      data = {\"id\" : getId(), \"notebook\" : notebook, \"mobile\" : getPassword()}\n",
        "      r = requests.post(url, data = data)\n",
        "      r = json.loads(r.text)\n",
        "\n",
        "      if r[\"status\"] == \"Success\":\n",
        "          return r[\"record_id\"]\n",
        "      elif \"err\" in r:\n",
        "        print(r[\"err\"])\n",
        "        return None\n",
        "      else:\n",
        "        print (\"Something is wrong, the notebook will not be submitted for grading\")\n",
        "        return None\n",
        "\n",
        "    elif getAnswer() and getComplexity() and getAdditional() and getConcepts() and getComments() and getMentorSupport():\n",
        "      f = open(notebook + \".ipynb\", \"rb\")\n",
        "      file_hash = base64.b64encode(f.read())\n",
        "\n",
        "      data = {\"complexity\" : Complexity, \"additional\" :Additional,\n",
        "              \"concepts\" : Concepts, \"record_id\" : submission_id,\n",
        "              \"answer\" : Answer, \"id\" : Id, \"file_hash\" : file_hash,\n",
        "              \"notebook\" : notebook,\n",
        "              \"feedback_experiments_input\" : Comments,\n",
        "              \"feedback_mentor_support\": Mentor_support}\n",
        "      r = requests.post(url, data = data)\n",
        "      r = json.loads(r.text)\n",
        "      if \"err\" in r:\n",
        "        print(r[\"err\"])\n",
        "        return None\n",
        "      else:\n",
        "        print(\"Your submission is successful.\")\n",
        "        print(\"Ref Id:\", submission_id)\n",
        "        print(\"Date of submission: \", r[\"date\"])\n",
        "        print(\"Time of submission: \", r[\"time\"])\n",
        "        print(\"View your submissions: https://genai-iisc.talentsprint.com/notebook_submissions\")\n",
        "        #print(\"For any queries/discrepancies, please connect with mentors through the chat icon in LMS dashboard.\")\n",
        "        return submission_id\n",
        "    else: submission_id\n",
        "\n",
        "\n",
        "def getAdditional():\n",
        "  try:\n",
        "    if not Additional:\n",
        "      raise NameError\n",
        "    else:\n",
        "      return Additional\n",
        "  except NameError:\n",
        "    print (\"Please answer Additional Question\")\n",
        "    return None\n",
        "\n",
        "def getComplexity():\n",
        "  try:\n",
        "    if not Complexity:\n",
        "      raise NameError\n",
        "    else:\n",
        "      return Complexity\n",
        "  except NameError:\n",
        "    print (\"Please answer Complexity Question\")\n",
        "    return None\n",
        "\n",
        "def getConcepts():\n",
        "  try:\n",
        "    if not Concepts:\n",
        "      raise NameError\n",
        "    else:\n",
        "      return Concepts\n",
        "  except NameError:\n",
        "    print (\"Please answer Concepts Question\")\n",
        "    return None\n",
        "\n",
        "\n",
        "# def getWalkthrough():\n",
        "#   try:\n",
        "#     if not Walkthrough:\n",
        "#       raise NameError\n",
        "#     else:\n",
        "#       return Walkthrough\n",
        "#   except NameError:\n",
        "#     print (\"Please answer Walkthrough Question\")\n",
        "#     return None\n",
        "\n",
        "def getComments():\n",
        "  try:\n",
        "    if not Comments:\n",
        "      raise NameError\n",
        "    else:\n",
        "      return Comments\n",
        "  except NameError:\n",
        "    print (\"Please answer Comments Question\")\n",
        "    return None\n",
        "\n",
        "\n",
        "def getMentorSupport():\n",
        "  try:\n",
        "    if not Mentor_support:\n",
        "      raise NameError\n",
        "    else:\n",
        "      return Mentor_support\n",
        "  except NameError:\n",
        "    print (\"Please answer Mentor support Question\")\n",
        "    return None\n",
        "\n",
        "def getAnswer():\n",
        "  try:\n",
        "    if not Answer:\n",
        "      raise NameError\n",
        "    else:\n",
        "      return Answer\n",
        "  except NameError:\n",
        "    print (\"Please answer Question\")\n",
        "    return None\n",
        "\n",
        "\n",
        "def getId():\n",
        "  try:\n",
        "    return Id if Id else None\n",
        "  except NameError:\n",
        "    return None\n",
        "\n",
        "def getPassword():\n",
        "  try:\n",
        "    return password if password else None\n",
        "  except NameError:\n",
        "    return None\n",
        "\n",
        "submission_id = None\n",
        "### Setup\n",
        "if getPassword() and getId():\n",
        "  submission_id = submit_notebook()\n",
        "  if submission_id:\n",
        "    setup()\n",
        "else:\n",
        "  print (\"Please complete Id and Password cells before running setup\")"
      ]
    },
    {
      "cell_type": "markdown",
      "source": [
        "# 4.Required Modules"
      ],
      "metadata": {
        "id": "Xdm89DR6aFvr"
      }
    },
    {
      "cell_type": "markdown",
      "source": [
        "## Install Dependencies"
      ],
      "metadata": {
        "id": "rB38MIMpMzCu"
      }
    },
    {
      "cell_type": "code",
      "source": [
        "%%capture\n",
        "!pip -q install openai\n",
        "!pip -q install langchain-openai\n",
        "!pip -q install langchain-core\n",
        "!pip -q install langchain-community\n",
        "!pip -q install sentence-transformers\n",
        "!pip -q install langchain-huggingface\n",
        "!pip -q install langchain_experimental"
      ],
      "metadata": {
        "id": "lWizLddhPTVs"
      },
      "execution_count": null,
      "outputs": []
    },
    {
      "cell_type": "markdown",
      "source": [
        "## Import Required Packages"
      ],
      "metadata": {
        "id": "hgc9EUiXUGFs"
      }
    },
    {
      "cell_type": "code",
      "source": [
        "%%capture\n",
        "import os\n",
        "import openai\n",
        "import pickle\n",
        "import sqlite3\n",
        "import numpy as np\n",
        "import pandas as pd\n",
        "import seaborn as sns\n",
        "import matplotlib.pyplot as plt\n",
        "from getpass import getpass\n",
        "from google.colab import userdata\n",
        "from langchain_core.prompts import PromptTemplate\n",
        "from langchain_core.output_parsers import StrOutputParser\n",
        "from langchain.schema.runnable import RunnablePassthrough\n",
        "from langchain_openai import ChatOpenAI"
      ],
      "metadata": {
        "id": "jErE9FOoUIVB"
      },
      "execution_count": null,
      "outputs": []
    },
    {
      "cell_type": "markdown",
      "source": [
        "# 5.Understanding the data"
      ],
      "metadata": {
        "id": "EzogUsV1aMTW"
      }
    },
    {
      "cell_type": "markdown",
      "source": [
        "## **Nifty 50 Constituent Price data**"
      ],
      "metadata": {
        "id": "I2OLFjq38FfX"
      }
    },
    {
      "cell_type": "code",
      "source": [
        "# The 'constituent_stock_prices.pkl' file should already be downloaded in Colab once you run the Setup cells given above\n",
        "\n",
        "csp = pickle.load(open('/content/constituent_stock_prices.pkl', 'rb'))"
      ],
      "metadata": {
        "id": "LxKHaVew6XUA"
      },
      "execution_count": null,
      "outputs": []
    },
    {
      "cell_type": "code",
      "source": [
        "# Its a dictionary with each company-name as a key\n",
        "type(csp)"
      ],
      "metadata": {
        "id": "mowXAgM27cu-"
      },
      "execution_count": null,
      "outputs": []
    },
    {
      "cell_type": "code",
      "source": [
        "csp.keys()    # each key contains a dataframe"
      ],
      "metadata": {
        "id": "WqLDySbN5b-Y"
      },
      "execution_count": null,
      "outputs": []
    },
    {
      "cell_type": "code",
      "source": [
        "# Total companies\n",
        "len(csp.keys())"
      ],
      "metadata": {
        "id": "Rvp1NsjG7kx0"
      },
      "execution_count": null,
      "outputs": []
    },
    {
      "cell_type": "code",
      "source": [
        "# Checking no. of rows and columns in each dataframe\n",
        "rows = []\n",
        "cols = []\n",
        "\n",
        "for key in csp.keys():\n",
        "    print(f\"{key:<15} {csp[key].shape}\")\n",
        "    rows.append(csp[key].shape[0])\n",
        "    cols.append(csp[key].shape[1])"
      ],
      "metadata": {
        "id": "LIsWgzEesOVj"
      },
      "execution_count": null,
      "outputs": []
    },
    {
      "cell_type": "code",
      "source": [
        "# Visualize no. of rows in each dataframe\n",
        "\n",
        "plt.figure(figsize=(20, 4))\n",
        "sns.barplot(x=csp.keys(), y=rows, hue=csp.keys())\n",
        "plt.xticks(rotation=80)\n",
        "plt.show()"
      ],
      "metadata": {
        "id": "fxgHok8WuNXi"
      },
      "execution_count": null,
      "outputs": []
    },
    {
      "cell_type": "code",
      "source": [
        "# Checking a dataframe\n",
        "adani = csp['ADANIENT.NS']\n",
        "print(adani.shape)\n",
        "adani.head()"
      ],
      "metadata": {
        "id": "fh56h4uM7hF1"
      },
      "execution_count": null,
      "outputs": []
    },
    {
      "cell_type": "code",
      "source": [
        "# Checking TCS dataframe\n",
        "tcs = csp['TCS.NS']\n",
        "print(tcs.shape)\n",
        "tcs.head()"
      ],
      "metadata": {
        "id": "iUEzoEJG37u8"
      },
      "execution_count": null,
      "outputs": []
    },
    {
      "source": [
        "# Plot 'Close' column values\n",
        "\n",
        "tcs['Close'].plot(kind='line', figsize=(8, 4), title='Close')\n",
        "plt.gca().spines[['top', 'right']].set_visible(False)"
      ],
      "cell_type": "code",
      "execution_count": null,
      "outputs": [],
      "metadata": {
        "id": "Woo8mf0KtRyp"
      }
    },
    {
      "cell_type": "code",
      "source": [
        "# Checking Wipro dataframe\n",
        "wipro = csp['WIPRO.NS']\n",
        "print(wipro.shape)\n",
        "wipro.head()"
      ],
      "metadata": {
        "id": "yCf6RVK877_o"
      },
      "execution_count": null,
      "outputs": []
    },
    {
      "cell_type": "markdown",
      "source": [
        "## **Combine Prices data**"
      ],
      "metadata": {
        "id": "gSHYLSb559bq"
      }
    },
    {
      "cell_type": "code",
      "source": [
        "# Combine 50 dataframes into one, Add a column 'Symbol' to distinguish that the row data is for that particular company\n",
        "\n",
        "comb_df = pd.DataFrame(columns=['Date', 'Open', 'High', 'Low', 'Close', 'Volume', 'Symbol'])\n",
        "\n",
        "for key in csp.keys():\n",
        "    tmp_df = csp[key].copy()\n",
        "    tmp_df.reset_index(inplace=True)\n",
        "    tmp_df['Symbol'] = key.split('.')[0]\n",
        "    comb_df = pd.concat([comb_df, tmp_df], ignore_index=True)\n"
      ],
      "metadata": {
        "id": "JdWoa0vG6yNE"
      },
      "execution_count": null,
      "outputs": []
    },
    {
      "cell_type": "code",
      "source": [
        "comb_df.head()"
      ],
      "metadata": {
        "id": "5AKdviolF1Vs"
      },
      "execution_count": null,
      "outputs": []
    },
    {
      "cell_type": "code",
      "source": [
        "comb_df.shape"
      ],
      "metadata": {
        "id": "A5v24Y4lGGzO"
      },
      "execution_count": null,
      "outputs": []
    },
    {
      "cell_type": "code",
      "source": [
        "# Cross-check no. of total rows\n",
        "sum(rows)"
      ],
      "metadata": {
        "id": "ClvJHVYKGKvu"
      },
      "execution_count": null,
      "outputs": []
    },
    {
      "cell_type": "code",
      "source": [
        "comb_df.tail()"
      ],
      "metadata": {
        "id": "NDdLf1T1GQag"
      },
      "execution_count": null,
      "outputs": []
    },
    {
      "cell_type": "code",
      "source": [
        "# Save the combined dataframe as csv file\n",
        "comb_df.to_csv('all_stock_prices.csv', index=False)"
      ],
      "metadata": {
        "id": "fqahP6UeGXoq"
      },
      "execution_count": null,
      "outputs": []
    },
    {
      "cell_type": "markdown",
      "source": [
        "# **6.Create a SQLite Database (in-memory)**"
      ],
      "metadata": {
        "id": "70N-dYZZ57Tr"
      }
    },
    {
      "cell_type": "markdown",
      "source": [
        "**SQLite** is a C library that provides a lightweight disk-based database that doesn't require a separate server process and allows accessing the database using a nonstandard variant of the SQL query language. Some applications can use SQLite for internal data storage.\n",
        "\n",
        "SQLite3 specifically refers to the third version of SQLite."
      ],
      "metadata": {
        "id": "Si3Z4DcegPyv"
      }
    },
    {
      "cell_type": "code",
      "source": [
        "import sqlite3\n",
        "\n",
        "print(sqlite3.sqlite_version)"
      ],
      "metadata": {
        "id": "-ldrKRTfhYHJ"
      },
      "execution_count": null,
      "outputs": []
    },
    {
      "cell_type": "code",
      "source": [
        "# Connect to a sqlite DB (It will create it if it doesn't exists)\n",
        "\n",
        "conn = sqlite3.connect('stock_db.sqlite')\n",
        "print(\"Opened database successfully\");"
      ],
      "metadata": {
        "id": "mtwgYLWOyjRz"
      },
      "execution_count": null,
      "outputs": []
    },
    {
      "cell_type": "markdown",
      "source": [
        "### Create table **`stock_prices`**"
      ],
      "metadata": {
        "id": "qtVpskAki0b5"
      }
    },
    {
      "cell_type": "code",
      "source": [
        "comb_df.columns"
      ],
      "metadata": {
        "id": "4qre0_B2y6rl"
      },
      "execution_count": null,
      "outputs": []
    },
    {
      "cell_type": "code",
      "source": [
        "# Create a table 'stock_prices' in DB\n",
        "\n",
        "conn.execute('''\n",
        "CREATE TABLE IF NOT EXISTS stock_prices(\n",
        "                      date DATE,\n",
        "                      open DOUBLE,\n",
        "                      high DOUBLE,\n",
        "                      low DOUBLE,\n",
        "                      close DOUBLE,\n",
        "                      volume INT,\n",
        "                      symbol VARCHAR(20));''')\n",
        "\n",
        "conn.commit()\n",
        "\n",
        "print(\"Table created successfully\");"
      ],
      "metadata": {
        "id": "IUJQuoLdyujr"
      },
      "execution_count": null,
      "outputs": []
    },
    {
      "cell_type": "code",
      "source": [
        "# Show tables\n",
        "\n",
        "cursor = conn.execute('''\n",
        "SELECT name FROM sqlite_master WHERE type='table';\n",
        "''')\n",
        "\n",
        "for row in cursor:\n",
        "    print(row)"
      ],
      "metadata": {
        "id": "I19wWLBtJrWv"
      },
      "execution_count": null,
      "outputs": []
    },
    {
      "cell_type": "markdown",
      "source": [
        "### Insert data into **`stock_prices`** table"
      ],
      "metadata": {
        "id": "XykKFYWYi_ca"
      }
    },
    {
      "cell_type": "code",
      "source": [
        "# Function to convert the 'date' from Timestamp to String yyyy-mm-dd\n",
        "\n",
        "def convert_date(date):\n",
        "    yyyy = date.year\n",
        "    mm = date.month\n",
        "    dd = date.day\n",
        "    if mm<10:\n",
        "        mm = '0' + str(mm)\n",
        "    if dd<10:\n",
        "        dd = '0' + str(dd)\n",
        "    return f\"{yyyy}-{mm}-{dd}\"\n"
      ],
      "metadata": {
        "id": "aiwj2TBDKzsM"
      },
      "execution_count": null,
      "outputs": []
    },
    {
      "cell_type": "code",
      "source": [
        "comb_df['Date'][0], convert_date(comb_df['Date'][0])"
      ],
      "metadata": {
        "id": "V2o-lIt3LUVH"
      },
      "execution_count": null,
      "outputs": []
    },
    {
      "cell_type": "code",
      "source": [
        "comb_df['Date'] = comb_df['Date'].apply(convert_date)\n",
        "comb_df.head(3)"
      ],
      "metadata": {
        "id": "AEuCszysNnsC"
      },
      "execution_count": null,
      "outputs": []
    },
    {
      "cell_type": "code",
      "source": [
        "# Insert stock prices data\n",
        "\n",
        "conn.executemany('''\n",
        "INSERT INTO stock_prices (date, open, high, low, close, volume, symbol) VALUES (?, ?, ?, ?, ?, ?, ?)\n",
        "''', comb_df.values)\n",
        "\n",
        "conn.commit()\n",
        "\n",
        "print(\"Data inserted successfully!\")"
      ],
      "metadata": {
        "id": "o-ncFV69z54P"
      },
      "execution_count": null,
      "outputs": []
    },
    {
      "cell_type": "markdown",
      "source": [
        "### **Query the Database**"
      ],
      "metadata": {
        "id": "Xyyp-aZTjPDb"
      }
    },
    {
      "cell_type": "code",
      "source": [
        "# Show table content\n",
        "\n",
        "cursor = conn.execute('''\n",
        "SELECT * from stock_prices limit 10;\n",
        "''')\n",
        "\n",
        "for row in cursor:\n",
        "    print(row)"
      ],
      "metadata": {
        "id": "G538RvBA4mt4"
      },
      "execution_count": null,
      "outputs": []
    },
    {
      "cell_type": "code",
      "source": [
        "# Show table content\n",
        "\n",
        "cursor = conn.execute('''\n",
        "SELECT * from stock_prices WHERE symbol='WIPRO' limit 10;\n",
        "''')\n",
        "\n",
        "for row in cursor:\n",
        "    print(row)"
      ],
      "metadata": {
        "id": "kQM3j5nPPMk1"
      },
      "execution_count": null,
      "outputs": []
    },
    {
      "cell_type": "code",
      "source": [
        "# Show number of rows in table\n",
        "\n",
        "cursor = conn.execute('''\n",
        "SELECT count(*) from stock_prices;\n",
        "''')\n",
        "\n",
        "for row in cursor:\n",
        "    print(row)"
      ],
      "metadata": {
        "id": "tuWmXiQnO4di"
      },
      "execution_count": null,
      "outputs": []
    },
    {
      "cell_type": "code",
      "source": [
        "# Show columns info of table\n",
        "\n",
        "cursor = conn.execute('''\n",
        "PRAGMA table_info(stock_prices);\n",
        "''')\n",
        "\n",
        "for row in cursor:\n",
        "    print(row)"
      ],
      "metadata": {
        "id": "918KTNazR7kG"
      },
      "execution_count": null,
      "outputs": []
    },
    {
      "cell_type": "markdown",
      "source": [
        "# **7.SQL Query Generation using an LLM**"
      ],
      "metadata": {
        "id": "zyNDtZCibQou"
      }
    },
    {
      "cell_type": "code",
      "source": [
        "# Read OpenAI key from Colab Secrets\n",
        "\n",
        "from google.colab import userdata\n",
        "\n",
        "api_key = userdata.get('OPENAI_KEY')           # <-- change this as per your secret's name\n",
        "os.environ['OPENAI_API_KEY'] = api_key\n",
        "openai.api_key = os.getenv('OPENAI_API_KEY')"
      ],
      "metadata": {
        "id": "cgfRX83Jb5jQ"
      },
      "execution_count": null,
      "outputs": []
    },
    {
      "cell_type": "markdown",
      "source": [
        "### **Load Model**"
      ],
      "metadata": {
        "id": "fQvekWJPjZSJ"
      }
    },
    {
      "cell_type": "code",
      "source": [
        "# Load Model\n",
        "\n",
        "from langchain_openai import ChatOpenAI\n",
        "\n",
        "llm = ChatOpenAI(model_name=\"gpt-4o-mini\", temperature=0)"
      ],
      "metadata": {
        "id": "pB17x2CzcFMr"
      },
      "execution_count": null,
      "outputs": []
    },
    {
      "cell_type": "code",
      "source": [
        "output = llm.invoke(\"What is 2 plus 3?\")\n",
        "output"
      ],
      "metadata": {
        "id": "kQ_RGES2b9Yb"
      },
      "execution_count": null,
      "outputs": []
    },
    {
      "cell_type": "markdown",
      "source": [
        "### **Create Chain for Query Generation** using **LCEL** (**L**ang**C**hain **E**xpression **L**anguage)"
      ],
      "metadata": {
        "id": "COmys1XKjfdW"
      }
    },
    {
      "cell_type": "markdown",
      "source": [
        "**LCEL** makes it easy to build complex chains from basic components, and supports out of the box functionality such as streaming, parallelism, and logging.\n",
        "\n",
        "The most basic and common use case is chaining a prompt template and a model together.\n",
        "\n",
        "**LCEL** --> uses pipes(|): When we call invoke() on the chain, the input is first passed to the first element of the pipe (generally `prompt`), output of that is passed to the next element (say `llm`).\n",
        "\n",
        "It's just the combination of the LLM\n",
        "and the prompt, but now this chain will let us run through the prompt and the LLM in a sequential manner.\n",
        "\n",
        "To know more about LCEL, refer [here](https://python.langchain.com/v0.1/docs/expression_language/get_started/)."
      ],
      "metadata": {
        "id": "YKEPwQI3TdTa"
      }
    },
    {
      "cell_type": "code",
      "source": [
        "# Build prompt\n",
        "template = \"\"\"Use the following pieces of context to generate the SQL query with column names for the request given at the end.\n",
        "If you don't know the answer, just say that you don't know, don't try to make up an answer.\n",
        "{context}\n",
        "Request: {request}\n",
        "Generate query:\"\"\"\n",
        "\n",
        "PROMPT = PromptTemplate(input_variables=[\"context\", \"request\"], template=template)"
      ],
      "metadata": {
        "id": "LD5eAq1ae49r"
      },
      "execution_count": null,
      "outputs": []
    },
    {
      "cell_type": "code",
      "source": [
        "# Query Generation Chain - created using LCEL (LangChain Expression Language)\n",
        "\n",
        "chain = (PROMPT\n",
        "         | llm\n",
        "         | StrOutputParser()       # to get output in a more usable format\n",
        "         )"
      ],
      "metadata": {
        "id": "r_jsEv50fjl0"
      },
      "execution_count": null,
      "outputs": []
    },
    {
      "cell_type": "code",
      "source": [
        "# Context\n",
        "table_info = \"\"\"CREATE TABLE IF NOT EXISTS stock_prices (date DATE, open DOUBLE, high DOUBLE, low DOUBLE, close DOUBLE, volume INT, symbol VARCHAR(20));\"\"\""
      ],
      "metadata": {
        "id": "Fau8EvCxf936"
      },
      "execution_count": null,
      "outputs": []
    },
    {
      "cell_type": "markdown",
      "source": [
        "### **Generate SQL Query then query the Database**"
      ],
      "metadata": {
        "id": "c8CoU6BhjmYf"
      }
    },
    {
      "cell_type": "code",
      "source": [
        "# Generate sql query\n",
        "\n",
        "response1 = chain.invoke({\"request\": \"How many total records there in table?\",\n",
        "                          \"context\": table_info})\n",
        "\n",
        "response1"
      ],
      "metadata": {
        "id": "OEPD_HM5dxLR"
      },
      "execution_count": null,
      "outputs": []
    },
    {
      "cell_type": "code",
      "source": [
        "# Generate another query\n",
        "\n",
        "response2 = chain.invoke({\"request\": \"What are unique companies symbols present in table?\",\n",
        "                          \"context\": table_info})\n",
        "\n",
        "response2"
      ],
      "metadata": {
        "id": "rQm1Y7Sgg0Qk"
      },
      "execution_count": null,
      "outputs": []
    },
    {
      "cell_type": "code",
      "source": [
        "# Generate another query\n",
        "\n",
        "response3 = chain.invoke({\"request\": \"Give me any ten records for Wipro company?\",\n",
        "                          \"context\": table_info})\n",
        "\n",
        "response3"
      ],
      "metadata": {
        "id": "btqO4MUTkN1Z"
      },
      "execution_count": null,
      "outputs": []
    },
    {
      "cell_type": "code",
      "source": [
        "# Generate another query\n",
        "\n",
        "response4 = chain.invoke({\"request\": \"Need open, high prices for any ten Wipro records\",\n",
        "                          \"context\": table_info})\n",
        "\n",
        "response4"
      ],
      "metadata": {
        "id": "5kNpoTMmuQQI"
      },
      "execution_count": null,
      "outputs": []
    },
    {
      "cell_type": "markdown",
      "source": [
        "### **Query the Database using generated SQL queries**"
      ],
      "metadata": {
        "id": "uJF6IPC2kwxp"
      }
    },
    {
      "cell_type": "code",
      "source": [
        "# Generated Response1\n",
        "response1"
      ],
      "metadata": {
        "id": "rrsVmkZIhsah"
      },
      "execution_count": null,
      "outputs": []
    },
    {
      "cell_type": "code",
      "source": [
        "import re\n",
        "\n",
        "def format_query(query):\n",
        "    query = re.sub(r\"```sql\\n|\\n```\", \"\", query).strip()\n",
        "    query = re.sub(r\"\\n\", \"\", query).strip()\n",
        "    return query\n",
        "\n",
        "format_query(response1)"
      ],
      "metadata": {
        "id": "2SZEj1YptfMC"
      },
      "execution_count": null,
      "outputs": []
    },
    {
      "cell_type": "code",
      "source": [
        "# Use generated query to get data from database\n",
        "\n",
        "query = format_query(response1)\n",
        "cursor = conn.execute(query)\n",
        "\n",
        "for row in cursor:\n",
        "    print(row)"
      ],
      "metadata": {
        "id": "pWNWmYt3h8DG"
      },
      "execution_count": null,
      "outputs": []
    },
    {
      "cell_type": "code",
      "source": [
        "# Generated Response2\n",
        "format_query(response2)"
      ],
      "metadata": {
        "id": "iT75TM_8iYoj"
      },
      "execution_count": null,
      "outputs": []
    },
    {
      "cell_type": "code",
      "source": [
        "# Use generated query to get data from database\n",
        "\n",
        "query = format_query(response2)\n",
        "cursor = conn.execute(query)\n",
        "\n",
        "for row in cursor:\n",
        "    print(row)"
      ],
      "metadata": {
        "id": "UCk2URoEiYok"
      },
      "execution_count": null,
      "outputs": []
    },
    {
      "cell_type": "code",
      "source": [
        "# Generated Response3\n",
        "format_query(response3)"
      ],
      "metadata": {
        "id": "Qz3ybg6TkcYx"
      },
      "execution_count": null,
      "outputs": []
    },
    {
      "cell_type": "code",
      "source": [
        "# Use generated query to get data from database\n",
        "\n",
        "query = format_query(response3)\n",
        "cursor = conn.execute(query)\n",
        "\n",
        "for row in cursor:\n",
        "    print(row)"
      ],
      "metadata": {
        "id": "1vQe2zxskcYy"
      },
      "execution_count": null,
      "outputs": []
    },
    {
      "cell_type": "code",
      "source": [
        "# Generated Response4\n",
        "format_query(response4)"
      ],
      "metadata": {
        "id": "kW6Qlftfu5Zz"
      },
      "execution_count": null,
      "outputs": []
    },
    {
      "cell_type": "code",
      "source": [
        "# Use generated query to get data from database\n",
        "\n",
        "query = format_query(response4)\n",
        "cursor = conn.execute(query)\n",
        "\n",
        "for row in cursor:\n",
        "    print(row)"
      ],
      "metadata": {
        "id": "mkzGUpdZu5Z0"
      },
      "execution_count": null,
      "outputs": []
    },
    {
      "cell_type": "markdown",
      "source": [
        "# **8.Python Code generation using an LLM**\n",
        "\n",
        "*Sometimes, for complex calculations, rather than have an LLM generate the answer directly, it can be better to have the LLM generate code to calculate the answer, and then run that code to get the answer.*"
      ],
      "metadata": {
        "id": "Eq1O70dUbNvR"
      }
    },
    {
      "cell_type": "markdown",
      "source": [
        "The **Python REPL** is a powerful tool for interactive programming, making it easy to experiment with Python code and get immediate feedback.\n",
        "\n",
        "It allows you to enter Python code, evaluate it immediately, and see the results right away.\n",
        "\n",
        "Components of Python REPL:\n",
        "\n",
        "* **Read:** The REPL reads the input you provide. This can be a single line of code, a block of code, or even multiple commands in succession.\n",
        "\n",
        "* **Eval:** The input is evaluated (executed) by the Python interpreter. This means that the code you entered is processed, and any calculations or operations are performed.\n",
        "\n",
        "* **Print:** The results of the evaluation are printed to the screen. This allows you to see the output immediately after entering your code.\n",
        "\n",
        "* **Loop:** After printing the result, the REPL loops back to read the next input, allowing you to continue interacting with the interpreter."
      ],
      "metadata": {
        "id": "LDyhrFxEnOFf"
      }
    },
    {
      "cell_type": "code",
      "source": [
        "from langchain_experimental.utilities import PythonREPL\n",
        "\n",
        "python_repl = PythonREPL()"
      ],
      "metadata": {
        "id": "BNk7k3qHoi0e"
      },
      "execution_count": null,
      "outputs": []
    },
    {
      "cell_type": "code",
      "source": [
        "python_repl.run(\"print(1+1)\")"
      ],
      "metadata": {
        "id": "JA7SEH47oibZ"
      },
      "execution_count": null,
      "outputs": []
    },
    {
      "cell_type": "code",
      "source": [
        "# You can create the tool to pass to an agent\n",
        "\n",
        "from langchain_core.tools import Tool\n",
        "\n",
        "repl_tool = Tool(\n",
        "    name=\"python_repl\",\n",
        "    description=\"A Python shell. Use this to execute python commands. Input should be a valid python command. If you want to see the output of a value, you should print it out with `print(...)`.\",\n",
        "    func=python_repl.run,\n",
        ")\n"
      ],
      "metadata": {
        "id": "02NkVukQHGmN"
      },
      "execution_count": null,
      "outputs": []
    },
    {
      "cell_type": "code",
      "source": [
        "repl_tool.run(\"print(1+1)\")"
      ],
      "metadata": {
        "id": "KoXN3Fr3HIdg"
      },
      "execution_count": null,
      "outputs": []
    },
    {
      "cell_type": "code",
      "source": [
        "# To plot a sine wave\n",
        "\n",
        "repl_tool.run(\"\"\"\n",
        "\n",
        "import matplotlib.pyplot as plt\n",
        "import numpy as np\n",
        "\n",
        "x = np.linspace(0, 10, 100)\n",
        "y = np.sin(x)\n",
        "\n",
        "plt.plot(x, y)\n",
        "plt.show()\n",
        "\n",
        "\"\"\")"
      ],
      "metadata": {
        "id": "isIOdwoqqMgG"
      },
      "execution_count": null,
      "outputs": []
    },
    {
      "cell_type": "code",
      "source": [
        "from langchain_openai import ChatOpenAI\n",
        "\n",
        "llm = ChatOpenAI(model_name=\"gpt-4o-mini\", temperature=0)"
      ],
      "metadata": {
        "id": "lwS22nXCHam3"
      },
      "execution_count": null,
      "outputs": []
    },
    {
      "cell_type": "code",
      "source": [
        "# Generate code using llm\n",
        "\n",
        "response = llm.invoke('generate and return python code only, no additional text, a code to create sine waves')"
      ],
      "metadata": {
        "id": "Lqk_HhZ5Hi-U"
      },
      "execution_count": null,
      "outputs": []
    },
    {
      "cell_type": "code",
      "source": [
        "print(response.content)"
      ],
      "metadata": {
        "id": "AuQbtSSrHuAl"
      },
      "execution_count": null,
      "outputs": []
    },
    {
      "cell_type": "code",
      "source": [
        "# Execute the generated code\n",
        "\n",
        "repl_tool.run(response.content)"
      ],
      "metadata": {
        "id": "FFOctja5HxiA"
      },
      "execution_count": null,
      "outputs": []
    },
    {
      "cell_type": "markdown",
      "source": [
        "### **Create another Chain for Code Generation** for Stock Prices"
      ],
      "metadata": {
        "id": "acRLwfZ42z16"
      }
    },
    {
      "cell_type": "code",
      "source": [
        "# Build prompt to use the user_request, generated_sql_query, extracted_data to generate Python code for insights\n",
        "\n",
        "template2 = \"\"\"Use the following pieces of user request and sql query to generate python code to show insights related to the data given at the end.\n",
        "Generate and return python code only, no additional text.\n",
        "If you don't know the answer, just say that you don't know, don't try to make up an answer.\n",
        "Request: {request}\n",
        "Sql query: {sql_query}\n",
        "Data: {data}\n",
        "Generate code:\"\"\"\n",
        "\n",
        "PROMPT2 = PromptTemplate(input_variables=[\"request\", \"sql_query\", \"data\"], template=template2)"
      ],
      "metadata": {
        "id": "nIyUjCcUrNRI"
      },
      "execution_count": null,
      "outputs": []
    },
    {
      "cell_type": "code",
      "source": [
        "# Code Generation Chain\n",
        "\n",
        "chain2 = (PROMPT2\n",
        "          | llm\n",
        "          | StrOutputParser()\n",
        "          )"
      ],
      "metadata": {
        "id": "0DXTKt-KrNRJ"
      },
      "execution_count": null,
      "outputs": []
    },
    {
      "cell_type": "markdown",
      "source": [
        "### **First, Generate SQL Query for a user request**"
      ],
      "metadata": {
        "id": "_JGMrTMorNRK"
      }
    },
    {
      "cell_type": "code",
      "source": [
        "# Generate sql query\n",
        "\n",
        "user_request = \"Need insights on the trend present in any 50 Wipro records\"\n",
        "\n",
        "generated_query = chain.invoke({\"request\": user_request,\n",
        "                                \"context\": table_info})\n",
        "\n",
        "generated_query"
      ],
      "metadata": {
        "id": "3uFHfmPrz5V0"
      },
      "execution_count": null,
      "outputs": []
    },
    {
      "cell_type": "code",
      "source": [
        "format_query(generated_query)"
      ],
      "metadata": {
        "id": "qV-_WCPRx5z_"
      },
      "execution_count": null,
      "outputs": []
    },
    {
      "cell_type": "markdown",
      "source": [
        "### **Second, Extract Data from DB for the user request**"
      ],
      "metadata": {
        "id": "9hNILD6o5Egg"
      }
    },
    {
      "cell_type": "code",
      "source": [
        "# Use generated query to get data from database\n",
        "\n",
        "query = format_query(generated_query)\n",
        "cursor = conn.execute(query)\n",
        "\n",
        "extracted_data = []\n",
        "\n",
        "for row in cursor:\n",
        "    extracted_data.append(row)"
      ],
      "metadata": {
        "id": "AQxRCioTsTZf"
      },
      "execution_count": null,
      "outputs": []
    },
    {
      "cell_type": "code",
      "source": [
        "extracted_data[:2]"
      ],
      "metadata": {
        "id": "x1QfJNbky7__"
      },
      "execution_count": null,
      "outputs": []
    },
    {
      "cell_type": "markdown",
      "source": [
        "### **Third, Generate Code for the user request**"
      ],
      "metadata": {
        "id": "D6fDq1FV5gAe"
      }
    },
    {
      "cell_type": "code",
      "source": [
        "# Generate code\n",
        "\n",
        "response1A = chain2.invoke({\"request\": user_request,\n",
        "                            \"sql_query\": generated_query,\n",
        "                            \"data\": extracted_data\n",
        "                            })"
      ],
      "metadata": {
        "id": "nQs7UsD1xQk2"
      },
      "execution_count": null,
      "outputs": []
    },
    {
      "cell_type": "code",
      "source": [
        "# See the Generated code\n",
        "print(response1A)"
      ],
      "metadata": {
        "id": "z0Tq26wLtFP7"
      },
      "execution_count": null,
      "outputs": []
    },
    {
      "cell_type": "markdown",
      "source": [
        "### **At last, Execute the generated Code for the user request**"
      ],
      "metadata": {
        "id": "JdFU__sE7bds"
      }
    },
    {
      "cell_type": "code",
      "source": [
        "# Execute the generated code\n",
        "\n",
        "print(repl_tool.run(response1A))"
      ],
      "metadata": {
        "id": "Ba0gTG8e1KDn"
      },
      "execution_count": null,
      "outputs": []
    },
    {
      "cell_type": "code",
      "source": [
        "## Once done, close the connection to DB:\n",
        "\n",
        "conn.close()"
      ],
      "metadata": {
        "id": "A13FLF5P1J4q"
      },
      "execution_count": null,
      "outputs": []
    },
    {
      "cell_type": "markdown",
      "metadata": {
        "id": "ErjQyyi4nR2n"
      },
      "source": [
        "### Please answer the questions below to complete the experiment:\n",
        "\n",
        "\n"
      ]
    },
    {
      "cell_type": "code",
      "metadata": {
        "id": "VgSwVENIPcM6"
      },
      "source": [
        "#@title In the project architecture given in the notebook, what is the primary role of the Query-Generation stage? { run: \"auto\", form-width: \"500px\", display-mode: \"form\" }\n",
        "Answer = \"\" #@param [\"\", \"To summarize the insights derived from the data\", \"To identify the nature of the user's question (SQL or non-SQL based)\", \"To construct the SQL query based on user input by identifying the relevant table, variables, and conditions\", \"To generate suggestions for the user's next query\"]"
      ],
      "execution_count": null,
      "outputs": []
    },
    {
      "cell_type": "code",
      "metadata": {
        "id": "NMzKSbLIgFzQ"
      },
      "source": [
        "#@title How was the experiment? { run: \"auto\", form-width: \"500px\", display-mode: \"form\" }\n",
        "Complexity = \"\" #@param [\"\",\"Too Simple, I am wasting time\", \"Good, But Not Challenging for me\", \"Good and Challenging for me\", \"Was Tough, but I did it\", \"Too Difficult for me\"]\n"
      ],
      "execution_count": null,
      "outputs": []
    },
    {
      "cell_type": "code",
      "metadata": {
        "id": "DjcH1VWSFI2l"
      },
      "source": [
        "#@title If it was too easy, what more would you have liked to be added? If it was very difficult, what would you have liked to have been removed? { run: \"auto\", display-mode: \"form\" }\n",
        "Additional = \"\" #@param {type:\"string\"}\n"
      ],
      "execution_count": null,
      "outputs": []
    },
    {
      "cell_type": "code",
      "metadata": {
        "id": "4VBk_4VTAxCM"
      },
      "source": [
        "#@title Can you identify the concepts from the lecture which this experiment covered? { run: \"auto\", vertical-output: true, display-mode: \"form\" }\n",
        "Concepts = \"\" #@param [\"\",\"Yes\", \"No\"]\n"
      ],
      "execution_count": null,
      "outputs": []
    },
    {
      "cell_type": "code",
      "metadata": {
        "id": "XH91cL1JWH7m"
      },
      "source": [
        "#@title  Text and image description/explanation and code comments within the experiment: { run: \"auto\", vertical-output: true, display-mode: \"form\" }\n",
        "Comments = \"\" #@param [\"\",\"Very Useful\", \"Somewhat Useful\", \"Not Useful\", \"Didn't use\"]\n"
      ],
      "execution_count": null,
      "outputs": []
    },
    {
      "cell_type": "code",
      "metadata": {
        "id": "z8xLqj7VWIKW"
      },
      "source": [
        "#@title Mentor Support: { run: \"auto\", vertical-output: true, display-mode: \"form\" }\n",
        "Mentor_support = \"\" #@param [\"\",\"Very Useful\", \"Somewhat Useful\", \"Not Useful\", \"Didn't use\"]\n"
      ],
      "execution_count": null,
      "outputs": []
    },
    {
      "cell_type": "code",
      "metadata": {
        "id": "FzAZHt1zw-Y-",
        "cellView": "form"
      },
      "source": [
        "#@title Run this cell to submit your notebook for grading { vertical-output: true }\n",
        "try:\n",
        "  if submission_id:\n",
        "      return_id = submit_notebook()\n",
        "      if return_id : submission_id = return_id\n",
        "  else:\n",
        "      print(\"Please complete the setup first.\")\n",
        "except NameError:\n",
        "  print (\"Please complete the setup first.\")"
      ],
      "execution_count": null,
      "outputs": []
    }
  ]
}
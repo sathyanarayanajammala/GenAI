{
  "nbformat": 4,
  "nbformat_minor": 0,
  "metadata": {
    "colab": {
      "provenance": [],
      "include_colab_link": true
    },
    "kernelspec": {
      "name": "python3",
      "display_name": "Python 3"
    },
    "language_info": {
      "name": "python"
    }
  },
  "cells": [
    {
      "cell_type": "markdown",
      "metadata": {
        "id": "view-in-github",
        "colab_type": "text"
      },
      "source": [
        "<a href=\"https://colab.research.google.com/github/sathyanarayanajammala/GenAI/blob/main/20240720_GenAI_C1_PythonIntroduction.ipynb\" target=\"_parent\"><img src=\"https://colab.research.google.com/assets/colab-badge.svg\" alt=\"Open In Colab\"/></a>"
      ]
    },
    {
      "cell_type": "markdown",
      "source": [
        "# 1.Introduction to Python Notebooks\n",
        "\n",
        "\n",
        "**Python Notebooks Overview in Google Colab**\n",
        "\n",
        "In this section, you will delve into Google Colab, a powerful online platform for creating and collaborating on Python Notebooks. Colab provides a seamless integration of code execution, text explanations, and visualizations in a single interactive environment, making it ideal for data science, machine learning, and collaborative projects.\n",
        "\n",
        "**Creating and Running Notebooks**\n",
        "\n",
        "Learn how to efficiently create, open, and manage Python Notebooks in Colab:\n",
        "\n",
        "<u>Creating New Notebooks:</u> Start a new notebook with a single click, enabling immediate coding and documentation.\n",
        "\n",
        "<u>Accessing Existing Notebooks:</u> Easily open and edit existing notebooks stored in Google Drive, ensuring easy access and version control.\n",
        "\n",
        "<u>Saving and Sharing Notebooks:</u> Save your work automatically on Google Drive or locally, and share it with collaborators for real-time editing and feedback.\n",
        "\n",
        "**Google Colab Interface**\n",
        "\n",
        "Navigate and utilize the intuitive Google Colab interface:\n",
        "\n",
        "<u>Toolbar:</u> Access essential functions such as saving, adding cells, and executing code seamlessly.\n",
        "\n",
        "<u>Customizable Environment:</u> Colab provides a customizable environment with support for various Python libraries and packages out-of-the-box. You can install additional libraries using pip or conda commands within the notebook, enabling flexibility in your coding environment.\n",
        "\n",
        "**Cell Types: Code, Markdown**\n",
        "\n",
        "Understand the different cell types available in Google Colab:\n",
        "\n",
        "<u>Code Cells:</u>  Execute Python code and view results inline, facilitating iterative development and debugging.\n",
        "\n",
        "<u>Markdown Cells:</u>  Write narrative text, format it with headings, lists, and more, to provide context and instructions alongside your code.\n",
        "\n",
        "**Notebook Extensions and Tools**\n",
        "\n",
        "Explore additional functionalities and tools available in Google Colab to enhance your productivity:\n",
        "\n",
        "<u>Extensions:</u>  Customize your environment with various plugins and extensions, such as table of contents generators and spell checkers.\n",
        "\n",
        "<u>Integrated Tools:</u> Utilize Google's ecosystem for seamless integration with services like Google Drive, ensuring easy access to datasets and project files.\n"
      ],
      "metadata": {
        "id": "Ym-KHOANsse8"
      }
    },
    {
      "cell_type": "markdown",
      "source": [
        "## Programming Practice"
      ],
      "metadata": {
        "id": "m4E-yRQeuRpJ"
      }
    },
    {
      "cell_type": "code",
      "source": [
        "print(5+10)\n",
        "print(6+12)\n",
        "a = 10\n",
        "print(5+10,6+12,a)"
      ],
      "metadata": {
        "colab": {
          "base_uri": "https://localhost:8080/"
        },
        "id": "GMzfnle6-7LH",
        "outputId": "9255d80e-e3b5-45ac-c5bd-893ba2f9cbc0"
      },
      "execution_count": null,
      "outputs": [
        {
          "output_type": "stream",
          "name": "stdout",
          "text": [
            "15\n",
            "18\n",
            "15 18 10\n"
          ]
        }
      ]
    },
    {
      "cell_type": "code",
      "execution_count": null,
      "metadata": {
        "colab": {
          "base_uri": "https://localhost:8080/"
        },
        "id": "bkKkADwgpIxa",
        "outputId": "d7dfa6d0-67a3-4da1-b84a-7c69b61a31b1"
      },
      "outputs": [
        {
          "output_type": "stream",
          "name": "stdout",
          "text": [
            "Hello World!\n"
          ]
        }
      ],
      "source": [
        "print('Hello World!')"
      ]
    },
    {
      "cell_type": "markdown",
      "source": [
        "## Collaborating Across Projects and Tools"
      ],
      "metadata": {
        "id": "HxRlkLJ4uU8p"
      }
    },
    {
      "cell_type": "code",
      "source": [
        "a = 10\n",
        "b = 5\n",
        "\n",
        "a+b"
      ],
      "metadata": {
        "colab": {
          "base_uri": "https://localhost:8080/"
        },
        "id": "EgNseOqfuV-3",
        "outputId": "b56a2cec-1fc2-4c0f-8313-6e3d92758b70"
      },
      "execution_count": null,
      "outputs": [
        {
          "output_type": "execute_result",
          "data": {
            "text/plain": [
              "15"
            ]
          },
          "metadata": {},
          "execution_count": 3
        }
      ]
    },
    {
      "cell_type": "markdown",
      "source": [
        "## Code Organization"
      ],
      "metadata": {
        "id": "KT40OtobuYN8"
      }
    },
    {
      "cell_type": "markdown",
      "source": [
        "### Step1:"
      ],
      "metadata": {
        "id": "OsOShjFcwS0U"
      }
    },
    {
      "cell_type": "code",
      "source": [
        "print(\"What's your name?\")"
      ],
      "metadata": {
        "colab": {
          "base_uri": "https://localhost:8080/"
        },
        "id": "Nrggv-lKuY2c",
        "outputId": "a5d303a3-17d5-449f-932d-3a6df277625e"
      },
      "execution_count": null,
      "outputs": [
        {
          "output_type": "stream",
          "name": "stdout",
          "text": [
            "What's your name?\n"
          ]
        }
      ]
    },
    {
      "cell_type": "markdown",
      "source": [
        "### Step2:"
      ],
      "metadata": {
        "id": "PbhFryOwwek8"
      }
    },
    {
      "cell_type": "code",
      "source": [
        "print(\"What's your experience?\")"
      ],
      "metadata": {
        "colab": {
          "base_uri": "https://localhost:8080/"
        },
        "id": "Qsw7x7cRwiNj",
        "outputId": "7e80ec1f-950f-44e8-879d-248d6849118c"
      },
      "execution_count": null,
      "outputs": [
        {
          "output_type": "stream",
          "name": "stdout",
          "text": [
            "What's your experience?\n"
          ]
        }
      ]
    },
    {
      "cell_type": "markdown",
      "source": [
        "## Data Visualization"
      ],
      "metadata": {
        "id": "lOlpH7_GuZW1"
      }
    },
    {
      "cell_type": "code",
      "source": [
        "import matplotlib.pyplot as plt\n",
        "import numpy as np\n",
        "\n",
        "# Generating sample data\n",
        "x = np.linspace(0, 10, 100)  # 100 points from 0 to 10\n",
        "y = np.sin(x)  # Sine of x\n",
        "\n",
        "# Creating a line plot\n",
        "plt.figure(figsize=(10, 6))  # Set the figure size\n",
        "plt.plot(x, y, label='sin(x)', color='blue', linewidth=2)  # Plot with a label and styling\n",
        "\n",
        "# Adding labels and title\n",
        "plt.xlabel('X-axis')\n",
        "plt.ylabel('Y-axis')\n",
        "plt.title('sin(x)')\n",
        "\n",
        "# Adding a legend\n",
        "plt.legend()\n",
        "\n",
        "# Display the plot\n",
        "plt.show()\n",
        "\n",
        "\n"
      ],
      "metadata": {
        "colab": {
          "base_uri": "https://localhost:8080/",
          "height": 544
        },
        "id": "Az5SXaDaueJA",
        "outputId": "1c07595c-c3b5-4945-d563-4e332dfb0ff4"
      },
      "execution_count": null,
      "outputs": [
        {
          "output_type": "display_data",
          "data": {
            "text/plain": [
              "<Figure size 1000x600 with 1 Axes>"
            ],
            "image/png": "[encoded data removed]"
          },
          "metadata": {}
        }
      ]
    },
    {
      "cell_type": "markdown",
      "source": [
        "## Teaching Data Science Skills\n",
        "\n",
        "\n",
        "Following example is just for illustration purpose, we will understand more about the theory and the coding as we progress more into the course"
      ],
      "metadata": {
        "id": "cm8ZPO0ougcu"
      }
    },
    {
      "cell_type": "markdown",
      "source": [
        "### Importing Libraries"
      ],
      "metadata": {
        "id": "8QwM2w28yI6j"
      }
    },
    {
      "cell_type": "code",
      "source": [
        "import pandas as pd\n",
        "import matplotlib.pyplot as plt\n",
        "import seaborn as sns\n",
        "from sklearn.model_selection import train_test_split\n",
        "from sklearn.linear_model import LinearRegression\n",
        "from sklearn.metrics import mean_squared_error"
      ],
      "metadata": {
        "id": "m8fwgBZmyIgy"
      },
      "execution_count": null,
      "outputs": []
    },
    {
      "cell_type": "markdown",
      "source": [
        "### Loading Data"
      ],
      "metadata": {
        "id": "Cx_S8pKqyMh4"
      }
    },
    {
      "cell_type": "code",
      "source": [
        "url = 'https://people.sc.fsu.edu/~jburkardt/data/csv/hw_200.csv'\n",
        "data = pd.read_csv(url)\n",
        "data.columns = data.columns.str.replace('\"',\"\").str.replace(' ',\"\")\n",
        "data.head()"
      ],
      "metadata": {
        "colab": {
          "base_uri": "https://localhost:8080/",
          "height": 206
        },
        "id": "AVIPPeWvyPcG",
        "outputId": "068eaf18-9f88-426b-86cc-9fe00f8bef9b"
      },
      "execution_count": null,
      "outputs": [
        {
          "output_type": "execute_result",
          "data": {
            "text/plain": [
              "   Index  Height(Inches)  Weight(Pounds)\n",
              "0      1           65.78          112.99\n",
              "1      2           71.52          136.49\n",
              "2      3           69.40          153.03\n",
              "3      4           68.22          142.34\n",
              "4      5           67.79          144.30"
            ],
            "text/html": [
              "\n",
              "  <div id=\"df-e414bb70-69b8-4aae-b196-8dfb68cd60eb\" class=\"colab-df-container\">\n",
              "    <div>\n",
              "<style scoped>\n",
              "    .dataframe tbody tr th:only-of-type {\n",
              "        vertical-align: middle;\n",
              "    }\n",
              "\n",
              "    .dataframe tbody tr th {\n",
              "        vertical-align: top;\n",
              "    }\n",
              "\n",
              "    .dataframe thead th {\n",
              "        text-align: right;\n",
              "    }\n",
              "</style>\n",
              "<table border=\"1\" class=\"dataframe\">\n",
              "  <thead>\n",
              "    <tr style=\"text-align: right;\">\n",
              "      <th></th>\n",
              "      <th>Index</th>\n",
              "      <th>Height(Inches)</th>\n",
              "      <th>Weight(Pounds)</th>\n",
              "    </tr>\n",
              "  </thead>\n",
              "  <tbody>\n",
              "    <tr>\n",
              "      <th>0</th>\n",
              "      <td>1</td>\n",
              "      <td>65.78</td>\n",
              "      <td>112.99</td>\n",
              "    </tr>\n",
              "    <tr>\n",
              "      <th>1</th>\n",
              "      <td>2</td>\n",
              "      <td>71.52</td>\n",
              "      <td>136.49</td>\n",
              "    </tr>\n",
              "    <tr>\n",
              "      <th>2</th>\n",
              "      <td>3</td>\n",
              "      <td>69.40</td>\n",
              "      <td>153.03</td>\n",
              "    </tr>\n",
              "    <tr>\n",
              "      <th>3</th>\n",
              "      <td>4</td>\n",
              "      <td>68.22</td>\n",
              "      <td>142.34</td>\n",
              "    </tr>\n",
              "    <tr>\n",
              "      <th>4</th>\n",
              "      <td>5</td>\n",
              "      <td>67.79</td>\n",
              "      <td>144.30</td>\n",
              "    </tr>\n",
              "  </tbody>\n",
              "</table>\n",
              "</div>\n",
              "    <div class=\"colab-df-buttons\">\n",
              "\n",
              "  <div class=\"colab-df-container\">\n",
              "    <button class=\"colab-df-convert\" onclick=\"convertToInteractive('df-e414bb70-69b8-4aae-b196-8dfb68cd60eb')\"\n",
              "            title=\"Convert this dataframe to an interactive table.\"\n",
              "            style=\"display:none;\">\n",
              "\n",
              "  <svg xmlns=\"http://www.w3.org/2000/svg\" height=\"24px\" viewBox=\"0 -960 960 960\">\n",
              "    <path d=\"M120-120v-720h720v720H120Zm60-500h600v-160H180v160Zm220 220h160v-160H400v160Zm0 220h160v-160H400v160ZM180-400h160v-160H180v160Zm440 0h160v-160H620v160ZM180-180h160v-160H180v160Zm440 0h160v-160H620v160Z\"/>\n",
              "  </svg>\n",
              "    </button>\n",
              "\n",
              "  <style>\n",
              "    .colab-df-container {\n",
              "      display:flex;\n",
              "      gap: 12px;\n",
              "    }\n",
              "\n",
              "    .colab-df-convert {\n",
              "      background-color: #E8F0FE;\n",
              "      border: none;\n",
              "      border-radius: 50%;\n",
              "      cursor: pointer;\n",
              "      display: none;\n",
              "      fill: #1967D2;\n",
              "      height: 32px;\n",
              "      padding: 0 0 0 0;\n",
              "      width: 32px;\n",
              "    }\n",
              "\n",
              "    .colab-df-convert:hover {\n",
              "      background-color: #E2EBFA;\n",
              "      box-shadow: 0px 1px 2px rgba(60, 64, 67, 0.3), 0px 1px 3px 1px rgba(60, 64, 67, 0.15);\n",
              "      fill: #174EA6;\n",
              "    }\n",
              "\n",
              "    .colab-df-buttons div {\n",
              "      margin-bottom: 4px;\n",
              "    }\n",
              "\n",
              "    [theme=dark] .colab-df-convert {\n",
              "      background-color: #3B4455;\n",
              "      fill: #D2E3FC;\n",
              "    }\n",
              "\n",
              "    [theme=dark] .colab-df-convert:hover {\n",
              "      background-color: #434B5C;\n",
              "      box-shadow: 0px 1px 3px 1px rgba(0, 0, 0, 0.15);\n",
              "      filter: drop-shadow(0px 1px 2px rgba(0, 0, 0, 0.3));\n",
              "      fill: #FFFFFF;\n",
              "    }\n",
              "  </style>\n",
              "\n",
              "    <script>\n",
              "      const buttonEl =\n",
              "        document.querySelector('#df-e414bb70-69b8-4aae-b196-8dfb68cd60eb button.colab-df-convert');\n",
              "      buttonEl.style.display =\n",
              "        google.colab.kernel.accessAllowed ? 'block' : 'none';\n",
              "\n",
              "      async function convertToInteractive(key) {\n",
              "        const element = document.querySelector('#df-e414bb70-69b8-4aae-b196-8dfb68cd60eb');\n",
              "        const dataTable =\n",
              "          await google.colab.kernel.invokeFunction('convertToInteractive',\n",
              "                                                    [key], {});\n",
              "        if (!dataTable) return;\n",
              "\n",
              "        const docLinkHtml = 'Like what you see? Visit the ' +\n",
              "          '<a target=\"_blank\" href=https://colab.research.google.com/notebooks/data_table.ipynb>data table notebook</a>'\n",
              "          + ' to learn more about interactive tables.';\n",
              "        element.innerHTML = '';\n",
              "        dataTable['output_type'] = 'display_data';\n",
              "        await google.colab.output.renderOutput(dataTable, element);\n",
              "        const docLink = document.createElement('div');\n",
              "        docLink.innerHTML = docLinkHtml;\n",
              "        element.appendChild(docLink);\n",
              "      }\n",
              "    </script>\n",
              "  </div>\n",
              "\n",
              "\n",
              "<div id=\"df-d7f6a335-ed18-423c-b93c-bf1104803672\">\n",
              "  <button class=\"colab-df-quickchart\" onclick=\"quickchart('df-d7f6a335-ed18-423c-b93c-bf1104803672')\"\n",
              "            title=\"Suggest charts\"\n",
              "            style=\"display:none;\">\n",
              "\n",
              "<svg xmlns=\"http://www.w3.org/2000/svg\" height=\"24px\"viewBox=\"0 0 24 24\"\n",
              "     width=\"24px\">\n",
              "    <g>\n",
              "        <path d=\"M19 3H5c-1.1 0-2 .9-2 2v14c0 1.1.9 2 2 2h14c1.1 0 2-.9 2-2V5c0-1.1-.9-2-2-2zM9 17H7v-7h2v7zm4 0h-2V7h2v10zm4 0h-2v-4h2v4z\"/>\n",
              "    </g>\n",
              "</svg>\n",
              "  </button>\n",
              "\n",
              "<style>\n",
              "  .colab-df-quickchart {\n",
              "      --bg-color: #E8F0FE;\n",
              "      --fill-color: #1967D2;\n",
              "      --hover-bg-color: #E2EBFA;\n",
              "      --hover-fill-color: #174EA6;\n",
              "      --disabled-fill-color: #AAA;\n",
              "      --disabled-bg-color: #DDD;\n",
              "  }\n",
              "\n",
              "  [theme=dark] .colab-df-quickchart {\n",
              "      --bg-color: #3B4455;\n",
              "      --fill-color: #D2E3FC;\n",
              "      --hover-bg-color: #434B5C;\n",
              "      --hover-fill-color: #FFFFFF;\n",
              "      --disabled-bg-color: #3B4455;\n",
              "      --disabled-fill-color: #666;\n",
              "  }\n",
              "\n",
              "  .colab-df-quickchart {\n",
              "    background-color: var(--bg-color);\n",
              "    border: none;\n",
              "    border-radius: 50%;\n",
              "    cursor: pointer;\n",
              "    display: none;\n",
              "    fill: var(--fill-color);\n",
              "    height: 32px;\n",
              "    padding: 0;\n",
              "    width: 32px;\n",
              "  }\n",
              "\n",
              "  .colab-df-quickchart:hover {\n",
              "    background-color: var(--hover-bg-color);\n",
              "    box-shadow: 0 1px 2px rgba(60, 64, 67, 0.3), 0 1px 3px 1px rgba(60, 64, 67, 0.15);\n",
              "    fill: var(--button-hover-fill-color);\n",
              "  }\n",
              "\n",
              "  .colab-df-quickchart-complete:disabled,\n",
              "  .colab-df-quickchart-complete:disabled:hover {\n",
              "    background-color: var(--disabled-bg-color);\n",
              "    fill: var(--disabled-fill-color);\n",
              "    box-shadow: none;\n",
              "  }\n",
              "\n",
              "  .colab-df-spinner {\n",
              "    border: 2px solid var(--fill-color);\n",
              "    border-color: transparent;\n",
              "    border-bottom-color: var(--fill-color);\n",
              "    animation:\n",
              "      spin 1s steps(1) infinite;\n",
              "  }\n",
              "\n",
              "  @keyframes spin {\n",
              "    0% {\n",
              "      border-color: transparent;\n",
              "      border-bottom-color: var(--fill-color);\n",
              "      border-left-color: var(--fill-color);\n",
              "    }\n",
              "    20% {\n",
              "      border-color: transparent;\n",
              "      border-left-color: var(--fill-color);\n",
              "      border-top-color: var(--fill-color);\n",
              "    }\n",
              "    30% {\n",
              "      border-color: transparent;\n",
              "      border-left-color: var(--fill-color);\n",
              "      border-top-color: var(--fill-color);\n",
              "      border-right-color: var(--fill-color);\n",
              "    }\n",
              "    40% {\n",
              "      border-color: transparent;\n",
              "      border-right-color: var(--fill-color);\n",
              "      border-top-color: var(--fill-color);\n",
              "    }\n",
              "    60% {\n",
              "      border-color: transparent;\n",
              "      border-right-color: var(--fill-color);\n",
              "    }\n",
              "    80% {\n",
              "      border-color: transparent;\n",
              "      border-right-color: var(--fill-color);\n",
              "      border-bottom-color: var(--fill-color);\n",
              "    }\n",
              "    90% {\n",
              "      border-color: transparent;\n",
              "      border-bottom-color: var(--fill-color);\n",
              "    }\n",
              "  }\n",
              "</style>\n",
              "\n",
              "  <script>\n",
              "    async function quickchart(key) {\n",
              "      const quickchartButtonEl =\n",
              "        document.querySelector('#' + key + ' button');\n",
              "      quickchartButtonEl.disabled = true;  // To prevent multiple clicks.\n",
              "      quickchartButtonEl.classList.add('colab-df-spinner');\n",
              "      try {\n",
              "        const charts = await google.colab.kernel.invokeFunction(\n",
              "            'suggestCharts', [key], {});\n",
              "      } catch (error) {\n",
              "        console.error('Error during call to suggestCharts:', error);\n",
              "      }\n",
              "      quickchartButtonEl.classList.remove('colab-df-spinner');\n",
              "      quickchartButtonEl.classList.add('colab-df-quickchart-complete');\n",
              "    }\n",
              "    (() => {\n",
              "      let quickchartButtonEl =\n",
              "        document.querySelector('#df-d7f6a335-ed18-423c-b93c-bf1104803672 button');\n",
              "      quickchartButtonEl.style.display =\n",
              "        google.colab.kernel.accessAllowed ? 'block' : 'none';\n",
              "    })();\n",
              "  </script>\n",
              "</div>\n",
              "\n",
              "    </div>\n",
              "  </div>\n"
            ],
            "application/vnd.google.colaboratory.intrinsic+json": {
              "type": "dataframe",
              "variable_name": "data",
              "summary": "{\n  \"name\": \"data\",\n  \"rows\": 200,\n  \"fields\": [\n    {\n      \"column\": \"Index\",\n      \"properties\": {\n        \"dtype\": \"number\",\n        \"std\": 57,\n        \"min\": 1,\n        \"max\": 200,\n        \"num_unique_values\": 200,\n        \"samples\": [\n          96,\n          16,\n          31\n        ],\n        \"semantic_type\": \"\",\n        \"description\": \"\"\n      }\n    },\n    {\n      \"column\": \"Height(Inches)\",\n      \"properties\": {\n        \"dtype\": \"number\",\n        \"std\": 1.9403625936857454,\n        \"min\": 63.43,\n        \"max\": 73.9,\n        \"num_unique_values\": 167,\n        \"samples\": [\n          67.72,\n          68.83,\n          69.2\n        ],\n        \"semantic_type\": \"\",\n        \"description\": \"\"\n      }\n    },\n    {\n      \"column\": \"Weight(Pounds)\",\n      \"properties\": {\n        \"dtype\": \"number\",\n        \"std\": 11.960959176403788,\n        \"min\": 97.9,\n        \"max\": 158.96,\n        \"num_unique_values\": 196,\n        \"samples\": [\n          127.58,\n          132.68,\n          129.5\n        ],\n        \"semantic_type\": \"\",\n        \"description\": \"\"\n      }\n    }\n  ]\n}"
            }
          },
          "metadata": {},
          "execution_count": 21
        }
      ]
    },
    {
      "cell_type": "markdown",
      "source": [
        "### Exploratory Data Analysis (EDA)"
      ],
      "metadata": {
        "id": "ta1rVeFHySmf"
      }
    },
    {
      "cell_type": "code",
      "source": [
        "# Summary statistics\n",
        "print(data.describe())"
      ],
      "metadata": {
        "colab": {
          "base_uri": "https://localhost:8080/"
        },
        "id": "GQWjiw9tyUvX",
        "outputId": "196acdd7-cbe1-4612-a711-b8486b3821ce"
      },
      "execution_count": null,
      "outputs": [
        {
          "output_type": "stream",
          "name": "stdout",
          "text": [
            "            Index  Height(Inches)  Weight(Pounds)\n",
            "count  200.000000      200.000000      200.000000\n",
            "mean   100.500000       67.949800      127.221950\n",
            "std     57.879185        1.940363       11.960959\n",
            "min      1.000000       63.430000       97.900000\n",
            "25%     50.750000       66.522500      119.895000\n",
            "50%    100.500000       67.935000      127.875000\n",
            "75%    150.250000       69.202500      136.097500\n",
            "max    200.000000       73.900000      158.960000\n"
          ]
        }
      ]
    },
    {
      "cell_type": "markdown",
      "source": [
        "### Visualizing the data"
      ],
      "metadata": {
        "id": "Oo-cGt-UyXek"
      }
    },
    {
      "cell_type": "code",
      "source": [
        "plt.figure(figsize=(10, 6))\n",
        "sns.scatterplot(x='Height(Inches)', y='Weight(Pounds)', data=data)\n",
        "plt.xlabel('Height (Inches)')\n",
        "plt.ylabel('Weight (Pounds)')\n",
        "plt.title('Height vs Weight')\n",
        "plt.show()"
      ],
      "metadata": {
        "colab": {
          "base_uri": "https://localhost:8080/",
          "height": 554
        },
        "id": "1-jTNDrcyWGk",
        "outputId": "f222be5d-d1ae-46af-ef81-7dd7a48721bd"
      },
      "execution_count": null,
      "outputs": [
        {
          "output_type": "display_data",
          "data": {
            "text/plain": [
              "<Figure size 1000x600 with 1 Axes>"
            ],
            "image/png": "[encoded data removed]"
          },
          "metadata": {}
        }
      ]
    },
    {
      "cell_type": "markdown",
      "source": [
        "### Preparing Data for Modeling"
      ],
      "metadata": {
        "id": "-zrexlRDyaPx"
      }
    },
    {
      "cell_type": "code",
      "source": [
        "X = data[['Height(Inches)']]\n",
        "y = data['Weight(Pounds)']\n",
        "X_train, X_test, y_train, y_test = train_test_split(X, y, test_size=0.2, random_state=42)\n"
      ],
      "metadata": {
        "id": "6baDpCwNyZ6l"
      },
      "execution_count": null,
      "outputs": []
    },
    {
      "cell_type": "markdown",
      "source": [
        "### Training a Simple Linear Regression Model"
      ],
      "metadata": {
        "id": "WE76XYZdyeGW"
      }
    },
    {
      "cell_type": "code",
      "source": [
        "model = LinearRegression()\n",
        "model.fit(X_train, y_train)\n",
        "y_pred = model.predict(X_test)"
      ],
      "metadata": {
        "id": "oDacIQhNydFS"
      },
      "execution_count": null,
      "outputs": []
    },
    {
      "cell_type": "markdown",
      "source": [
        "### Evaluating the Model\n"
      ],
      "metadata": {
        "id": "eo8Q0QOIygbL"
      }
    },
    {
      "cell_type": "code",
      "source": [
        "mse = mean_squared_error(y_test, y_pred)\n",
        "print(\"Mean Squared Error:\", mse)"
      ],
      "metadata": {
        "colab": {
          "base_uri": "https://localhost:8080/"
        },
        "id": "outxbYM_yill",
        "outputId": "c347e3c8-36d4-4ecc-b735-452cfb616882"
      },
      "execution_count": null,
      "outputs": [
        {
          "output_type": "stream",
          "name": "stdout",
          "text": [
            "Mean Squared Error: 134.94311638223607\n"
          ]
        }
      ]
    },
    {
      "cell_type": "markdown",
      "source": [
        "### Plotting the regression line"
      ],
      "metadata": {
        "id": "wuUribxcyloc"
      }
    },
    {
      "cell_type": "code",
      "source": [
        "plt.figure(figsize=(10, 6))\n",
        "sns.scatterplot(x='Height(Inches)', y='Weight(Pounds)', data=data)\n",
        "plt.plot(X_test, y_pred, color='red', linewidth=2)\n",
        "plt.xlabel('Height (Inches)')\n",
        "plt.ylabel('Weight (Pounds)')\n",
        "plt.title('Height vs Weight with Regression Line')\n",
        "plt.show()"
      ],
      "metadata": {
        "colab": {
          "base_uri": "https://localhost:8080/",
          "height": 554
        },
        "id": "LwOCe087ykQc",
        "outputId": "4165d057-cd24-408f-825e-2391a10de382"
      },
      "execution_count": null,
      "outputs": [
        {
          "output_type": "display_data",
          "data": {
            "text/plain": [
              "<Figure size 1000x600 with 1 Axes>"
            ],
            "image/png": "[encoded data removed]"
          },
          "metadata": {}
        }
      ]
    },
    {
      "cell_type": "markdown",
      "source": [
        "# 2.Variables\n",
        "\n",
        "Variables in Python are containers used to store data values. They are essential for working with data and performing operations in a program. Understanding how to define, name, and assign values to variables is crucial for any Python programmer."
      ],
      "metadata": {
        "id": "-gNAlxDszGAt"
      }
    },
    {
      "cell_type": "markdown",
      "source": [
        "## 2.1.Variable Definition"
      ],
      "metadata": {
        "id": "KWoayP4x6rkr"
      }
    },
    {
      "cell_type": "code",
      "source": [
        "age = 25\n",
        "name = \"Alice\""
      ],
      "metadata": {
        "id": "EaKYg_XM6Y6-"
      },
      "execution_count": null,
      "outputs": []
    },
    {
      "cell_type": "markdown",
      "source": [
        "## 2.2.Variable Naming"
      ],
      "metadata": {
        "id": "X4BJGIDr6ve_"
      }
    },
    {
      "cell_type": "code",
      "source": [
        "first_name = \"John\"\n",
        "last_name = \"Doe\""
      ],
      "metadata": {
        "id": "6RznWeO46yOq"
      },
      "execution_count": null,
      "outputs": []
    },
    {
      "cell_type": "markdown",
      "source": [
        "## 2.3.Assigning Values"
      ],
      "metadata": {
        "id": "P5w5osRt6y2g"
      }
    },
    {
      "cell_type": "code",
      "source": [
        "x = 10\n",
        "y = 5.5"
      ],
      "metadata": {
        "id": "KV6Q0OuL6ymO"
      },
      "execution_count": null,
      "outputs": []
    },
    {
      "cell_type": "markdown",
      "source": [
        "# 3.Data Types\n",
        "\n",
        " Data types specify the kind of values that variables can hold. Understanding different data types such as integers, floats, strings, and booleans is fundamental for manipulating data effectively in Python programs."
      ],
      "metadata": {
        "id": "TasjkXH81djU"
      }
    },
    {
      "cell_type": "markdown",
      "source": [
        "## 3.1.Integer"
      ],
      "metadata": {
        "id": "87UgnTAk7Tcn"
      }
    },
    {
      "cell_type": "code",
      "source": [
        "age = 25"
      ],
      "metadata": {
        "id": "sL-4hY8n6X6w"
      },
      "execution_count": null,
      "outputs": []
    },
    {
      "cell_type": "code",
      "source": [
        "type(age)"
      ],
      "metadata": {
        "colab": {
          "base_uri": "https://localhost:8080/"
        },
        "id": "NMITl_rAcTuj",
        "outputId": "2b394d22-37f7-4e4f-f3ed-f0d0d86697e6"
      },
      "execution_count": null,
      "outputs": [
        {
          "output_type": "execute_result",
          "data": {
            "text/plain": [
              "int"
            ]
          },
          "metadata": {},
          "execution_count": 22
        }
      ]
    },
    {
      "cell_type": "code",
      "source": [
        "age = float(25)\n",
        "print(age)\n",
        "type(age)"
      ],
      "metadata": {
        "colab": {
          "base_uri": "https://localhost:8080/"
        },
        "id": "rP-S02sXckRo",
        "outputId": "46eed3c5-56f9-4e69-ad9f-ac1323179f8b"
      },
      "execution_count": null,
      "outputs": [
        {
          "output_type": "stream",
          "name": "stdout",
          "text": [
            "25.0\n"
          ]
        },
        {
          "output_type": "execute_result",
          "data": {
            "text/plain": [
              "float"
            ]
          },
          "metadata": {},
          "execution_count": 23
        }
      ]
    },
    {
      "cell_type": "markdown",
      "source": [
        "## 3.2.Float"
      ],
      "metadata": {
        "id": "4PUo1OB-7WR6"
      }
    },
    {
      "cell_type": "code",
      "source": [
        "height = 5.11"
      ],
      "metadata": {
        "id": "3-C_eCkC7Zcc"
      },
      "execution_count": null,
      "outputs": []
    },
    {
      "cell_type": "code",
      "source": [
        "type(height)"
      ],
      "metadata": {
        "colab": {
          "base_uri": "https://localhost:8080/"
        },
        "id": "tZkeXFJ4c0Na",
        "outputId": "43562d2d-e24e-4108-ee30-8e07add19c8e"
      },
      "execution_count": null,
      "outputs": [
        {
          "output_type": "execute_result",
          "data": {
            "text/plain": [
              "float"
            ]
          },
          "metadata": {},
          "execution_count": 25
        }
      ]
    },
    {
      "cell_type": "code",
      "source": [
        "height = int(5.11)\n",
        "print(height)\n",
        "type(height)"
      ],
      "metadata": {
        "colab": {
          "base_uri": "https://localhost:8080/"
        },
        "id": "R3GACdfUc3kv",
        "outputId": "e0af2936-7d35-439b-ebef-ea9a42b2f2c1"
      },
      "execution_count": null,
      "outputs": [
        {
          "output_type": "stream",
          "name": "stdout",
          "text": [
            "5\n"
          ]
        },
        {
          "output_type": "execute_result",
          "data": {
            "text/plain": [
              "int"
            ]
          },
          "metadata": {},
          "execution_count": 26
        }
      ]
    },
    {
      "cell_type": "markdown",
      "source": [
        "## 3.3.String"
      ],
      "metadata": {
        "id": "GHZfL1-V7Zv_"
      }
    },
    {
      "cell_type": "code",
      "source": [
        "name = \"Alice\""
      ],
      "metadata": {
        "id": "UktxwDdx7aOG"
      },
      "execution_count": null,
      "outputs": []
    },
    {
      "cell_type": "code",
      "source": [
        "name = 'this'\n",
        "\n",
        "name = \"this's\"\n",
        "\n",
        "name = ''' this '''\n",
        "\n",
        "name = \"\"\" this\n",
        "asd\n",
        "asd\n",
        "asd\n",
        "as\n",
        "ddsad\"\"\""
      ],
      "metadata": {
        "id": "qKGyGoimdNK-"
      },
      "execution_count": null,
      "outputs": []
    },
    {
      "cell_type": "code",
      "source": [
        "type(name)"
      ],
      "metadata": {
        "colab": {
          "base_uri": "https://localhost:8080/"
        },
        "id": "S9NgZxVydmA3",
        "outputId": "695a7506-221d-4151-c13f-777f16ec5248"
      },
      "execution_count": null,
      "outputs": [
        {
          "output_type": "execute_result",
          "data": {
            "text/plain": [
              "str"
            ]
          },
          "metadata": {},
          "execution_count": 38
        }
      ]
    },
    {
      "cell_type": "code",
      "source": [
        "name"
      ],
      "metadata": {
        "colab": {
          "base_uri": "https://localhost:8080/",
          "height": 35
        },
        "id": "IsNwHxFYdurP",
        "outputId": "c34661a9-d572-45d5-db3b-4ba0ef9eb142"
      },
      "execution_count": null,
      "outputs": [
        {
          "output_type": "execute_result",
          "data": {
            "text/plain": [
              "'Alice'"
            ],
            "application/vnd.google.colaboratory.intrinsic+json": {
              "type": "string"
            }
          },
          "metadata": {},
          "execution_count": 40
        }
      ]
    },
    {
      "cell_type": "markdown",
      "source": [
        "## 3.4 Boolean"
      ],
      "metadata": {
        "id": "qG28BdXx7eqj"
      }
    },
    {
      "cell_type": "code",
      "source": [
        "is_student = True"
      ],
      "metadata": {
        "id": "OhTh3ZUY7eZ_"
      },
      "execution_count": null,
      "outputs": []
    },
    {
      "cell_type": "code",
      "source": [
        "type(is_student)"
      ],
      "metadata": {
        "colab": {
          "base_uri": "https://localhost:8080/"
        },
        "id": "v_KivHj-dqI0",
        "outputId": "975886f1-8c6b-43a1-af0f-f71da5a33015"
      },
      "execution_count": null,
      "outputs": [
        {
          "output_type": "execute_result",
          "data": {
            "text/plain": [
              "bool"
            ]
          },
          "metadata": {},
          "execution_count": 31
        }
      ]
    },
    {
      "cell_type": "markdown",
      "source": [
        "# 4.Basic Operations\n",
        "\n",
        "Basic operations in Python include arithmetic operations for numerical data types and string operations for manipulating text. These operations are essential for performing calculations, combining data, and transforming information in Python programs."
      ],
      "metadata": {
        "id": "E-6wyATq6YlL"
      }
    },
    {
      "cell_type": "markdown",
      "source": [
        "## 4.1.Arithmetic Operations"
      ],
      "metadata": {
        "id": "VNswUVrk7pQt"
      }
    },
    {
      "cell_type": "code",
      "source": [
        "import math"
      ],
      "metadata": {
        "id": "bLoSw7vRedwz"
      },
      "execution_count": null,
      "outputs": []
    },
    {
      "cell_type": "code",
      "source": [
        "math.sqrt(8)"
      ],
      "metadata": {
        "colab": {
          "base_uri": "https://localhost:8080/"
        },
        "id": "_TE6SQKOef7v",
        "outputId": "0dd414f7-6b43-4f00-85d0-00a5abffa730"
      },
      "execution_count": null,
      "outputs": [
        {
          "output_type": "execute_result",
          "data": {
            "text/plain": [
              "2.8284271247461903"
            ]
          },
          "metadata": {},
          "execution_count": 42
        }
      ]
    },
    {
      "cell_type": "code",
      "source": [
        "# Addition\n",
        "result = 10 + 5\n",
        "\n",
        "# Subtraction\n",
        "difference = 20 - 7\n",
        "\n",
        "# Multiplication\n",
        "product = 3 * 4\n",
        "\n",
        "# Division\n",
        "quotient = 15 / 3\n",
        "\n",
        "# Floor Division\n",
        "remainder = 17 % 5\n",
        "\n",
        "# Exponentiation\n",
        "power = 2 ** 3"
      ],
      "metadata": {
        "id": "ej_8ODx_6Zy4"
      },
      "execution_count": null,
      "outputs": []
    },
    {
      "cell_type": "code",
      "source": [
        "age = 10\n",
        "age2 = 20\n",
        "\n",
        "age2 - age"
      ],
      "metadata": {
        "colab": {
          "base_uri": "https://localhost:8080/"
        },
        "id": "H7-1v9weeql2",
        "outputId": "ad202bf8-fd1f-46cf-b3bd-7a7028e54f9c"
      },
      "execution_count": null,
      "outputs": [
        {
          "output_type": "execute_result",
          "data": {
            "text/plain": [
              "10"
            ]
          },
          "metadata": {},
          "execution_count": 43
        }
      ]
    },
    {
      "cell_type": "markdown",
      "source": [
        "## 4.2.String Operations"
      ],
      "metadata": {
        "id": "ZX06E9LQ7q9Y"
      }
    },
    {
      "cell_type": "code",
      "source": [
        "# String Concatenation\n",
        "greeting = \"Hello\" + \" World\"\n",
        "print(greeting)\n",
        "\n",
        "# String Repetition\n",
        "line = \"=\" * 20\n",
        "print(line)"
      ],
      "metadata": {
        "id": "vS5ml8z97rPa",
        "colab": {
          "base_uri": "https://localhost:8080/"
        },
        "outputId": "4baf9b76-9ab2-46a1-9d4d-30fef9dc2320"
      },
      "execution_count": null,
      "outputs": [
        {
          "output_type": "stream",
          "name": "stdout",
          "text": [
            "Hello World\n",
            "====================\n"
          ]
        }
      ]
    },
    {
      "cell_type": "markdown",
      "source": [
        "# 5.Containers\n",
        "\n",
        "In Python, lists, tuples, dictionaries, and sets are fundamental data structures used to store collections of data. Each structure has unique characteristics and uses, making them versatile for different programming tasks. Understanding how to create, access, and manipulate these data structures is crucial for effective Python programming."
      ],
      "metadata": {
        "id": "sCNBUOXK8Z15"
      }
    },
    {
      "cell_type": "markdown",
      "source": [
        "## 5.1.Lists"
      ],
      "metadata": {
        "id": "lOWwCZYy8l6j"
      }
    },
    {
      "cell_type": "code",
      "source": [
        "list([1,2,3])"
      ],
      "metadata": {
        "colab": {
          "base_uri": "https://localhost:8080/"
        },
        "id": "6kcAP6NKfYnS",
        "outputId": "dee58b65-0019-464a-cf31-f5fe3b372217"
      },
      "execution_count": null,
      "outputs": [
        {
          "output_type": "execute_result",
          "data": {
            "text/plain": [
              "[1, 2, 3]"
            ]
          },
          "metadata": {},
          "execution_count": 45
        }
      ]
    },
    {
      "cell_type": "code",
      "source": [
        "[1,2,3]"
      ],
      "metadata": {
        "colab": {
          "base_uri": "https://localhost:8080/"
        },
        "id": "sZU6CjiUfcEr",
        "outputId": "c69c802b-70f0-4b52-a110-29f22c81ff7e"
      },
      "execution_count": null,
      "outputs": [
        {
          "output_type": "execute_result",
          "data": {
            "text/plain": [
              "[1, 2, 3]"
            ]
          },
          "metadata": {},
          "execution_count": 46
        }
      ]
    },
    {
      "cell_type": "code",
      "source": [
        "# Creating a list of numbers\n",
        "numbers = [1, 2, 3, 4, 5]\n",
        "\n",
        "# Creating a list of strings\n",
        "fruits = [\"apple\", \"banana\", \"cherry\"]\n"
      ],
      "metadata": {
        "id": "ar8g7AzR8dej"
      },
      "execution_count": null,
      "outputs": []
    },
    {
      "cell_type": "code",
      "source": [
        "new_list = [numbers,fruits]"
      ],
      "metadata": {
        "id": "20mIOnp8fh7N"
      },
      "execution_count": null,
      "outputs": []
    },
    {
      "cell_type": "code",
      "source": [
        "new_list"
      ],
      "metadata": {
        "colab": {
          "base_uri": "https://localhost:8080/"
        },
        "id": "7f6qwQyGfnHd",
        "outputId": "455134c6-3c76-48bb-f65f-6543af5d4762"
      },
      "execution_count": null,
      "outputs": [
        {
          "output_type": "execute_result",
          "data": {
            "text/plain": [
              "[[1, 2, 3, 4, 5], ['apple', 'banana', 'cherry']]"
            ]
          },
          "metadata": {},
          "execution_count": 50
        }
      ]
    },
    {
      "cell_type": "code",
      "source": [
        "fruits[1]"
      ],
      "metadata": {
        "colab": {
          "base_uri": "https://localhost:8080/",
          "height": 35
        },
        "id": "jaVb6wf7f3rO",
        "outputId": "47bba509-1b44-4218-d726-ba969302dc69"
      },
      "execution_count": null,
      "outputs": [
        {
          "output_type": "execute_result",
          "data": {
            "text/plain": [
              "'banana'"
            ],
            "application/vnd.google.colaboratory.intrinsic+json": {
              "type": "string"
            }
          },
          "metadata": {},
          "execution_count": 52
        }
      ]
    },
    {
      "cell_type": "code",
      "source": [
        "# Accessing elements by index\n",
        "print(fruits[0])"
      ],
      "metadata": {
        "id": "I4YhM-oNC3Nj",
        "colab": {
          "base_uri": "https://localhost:8080/"
        },
        "outputId": "14f7ac53-5519-41c3-b906-999ae2e448b8"
      },
      "execution_count": null,
      "outputs": [
        {
          "output_type": "stream",
          "name": "stdout",
          "text": [
            "apple\n"
          ]
        }
      ]
    },
    {
      "cell_type": "code",
      "source": [
        "fruits.append([\"orange\"])\n",
        "fruits"
      ],
      "metadata": {
        "colab": {
          "base_uri": "https://localhost:8080/"
        },
        "id": "ZOj5YiO-gJn5",
        "outputId": "a648da73-76cc-4c57-fdfe-59c225af3ecc"
      },
      "execution_count": null,
      "outputs": [
        {
          "output_type": "execute_result",
          "data": {
            "text/plain": [
              "['apple', 'banana', 'cherry', ['orange'], 'orange', ['orange']]"
            ]
          },
          "metadata": {},
          "execution_count": 62
        }
      ]
    },
    {
      "cell_type": "code",
      "source": [
        "fruits.extend([\"orange\"])"
      ],
      "metadata": {
        "id": "rWqiCVEEguwa"
      },
      "execution_count": null,
      "outputs": []
    },
    {
      "cell_type": "code",
      "source": [
        "fruits"
      ],
      "metadata": {
        "colab": {
          "base_uri": "https://localhost:8080/"
        },
        "id": "26Xq95QXgxdG",
        "outputId": "0c0915d4-f130-40da-9f0b-5e8aa87ea45e"
      },
      "execution_count": null,
      "outputs": [
        {
          "output_type": "execute_result",
          "data": {
            "text/plain": [
              "['apple', 'banana', 'cherry', ['orange'], 'orange']"
            ]
          },
          "metadata": {},
          "execution_count": 61
        }
      ]
    },
    {
      "cell_type": "code",
      "source": [
        "fruit1 = fruits[3]\n",
        "fruit1[0]"
      ],
      "metadata": {
        "colab": {
          "base_uri": "https://localhost:8080/",
          "height": 35
        },
        "id": "0W1X0ctBhSKR",
        "outputId": "c3c5b039-6835-4479-dcad-a12778be479b"
      },
      "execution_count": null,
      "outputs": [
        {
          "output_type": "execute_result",
          "data": {
            "text/plain": [
              "'orange'"
            ],
            "application/vnd.google.colaboratory.intrinsic+json": {
              "type": "string"
            }
          },
          "metadata": {},
          "execution_count": 66
        }
      ]
    },
    {
      "cell_type": "code",
      "source": [
        "a = 10\n",
        "\n",
        "a = a+10\n",
        "\n",
        "print(a)"
      ],
      "metadata": {
        "colab": {
          "base_uri": "https://localhost:8080/"
        },
        "id": "ETX6jo7sgkxP",
        "outputId": "8b258507-8300-4850-aa1e-498bcae19232"
      },
      "execution_count": null,
      "outputs": [
        {
          "output_type": "stream",
          "name": "stdout",
          "text": [
            "20\n"
          ]
        }
      ]
    },
    {
      "cell_type": "code",
      "source": [
        "# Appending an element\n",
        "fruits.append(\"orange\")\n",
        "\n",
        "# Modifying an element\n",
        "fruits[1] = \"pear\"\n"
      ],
      "metadata": {
        "id": "dHMLBKX6C8se"
      },
      "execution_count": null,
      "outputs": []
    },
    {
      "cell_type": "code",
      "source": [
        "numbers.extend(fruits)\n",
        "print(numbers)"
      ],
      "metadata": {
        "colab": {
          "base_uri": "https://localhost:8080/"
        },
        "id": "cI-uhq8whn3X",
        "outputId": "676a931c-e444-4ac8-f470-ab060448dcbe"
      },
      "execution_count": null,
      "outputs": [
        {
          "output_type": "stream",
          "name": "stdout",
          "text": [
            "[1, 2, 3, 4, 5, 'apple', 'banana', 'cherry', ['orange'], 'orange', ['orange']]\n"
          ]
        }
      ]
    },
    {
      "cell_type": "code",
      "source": [
        "type(numbers)"
      ],
      "metadata": {
        "colab": {
          "base_uri": "https://localhost:8080/"
        },
        "id": "PsG6n46ah5o8",
        "outputId": "4bea6ba7-6dfa-4647-e5b2-c57f7715620c"
      },
      "execution_count": null,
      "outputs": [
        {
          "output_type": "execute_result",
          "data": {
            "text/plain": [
              "list"
            ]
          },
          "metadata": {},
          "execution_count": 70
        }
      ]
    },
    {
      "cell_type": "markdown",
      "source": [
        "## 5.2 Tuples"
      ],
      "metadata": {
        "id": "45TiR5898ocv"
      }
    },
    {
      "cell_type": "code",
      "source": [
        "tup = ()\n",
        "tup = tuple()"
      ],
      "metadata": {
        "id": "UEXprt5fiU4n"
      },
      "execution_count": null,
      "outputs": []
    },
    {
      "cell_type": "code",
      "source": [
        "# Creating a tuple of coordinates\n",
        "point = (10, 20)\n",
        "print(point)\n",
        "type(point)"
      ],
      "metadata": {
        "id": "T9JHXPtF8pva",
        "colab": {
          "base_uri": "https://localhost:8080/"
        },
        "outputId": "abe46a21-62c0-4693-8833-491a844ef9e4"
      },
      "execution_count": null,
      "outputs": [
        {
          "output_type": "stream",
          "name": "stdout",
          "text": [
            "(10, 20)\n"
          ]
        },
        {
          "output_type": "execute_result",
          "data": {
            "text/plain": [
              "tuple"
            ]
          },
          "metadata": {},
          "execution_count": 72
        }
      ]
    },
    {
      "cell_type": "code",
      "source": [
        "# Accessing elements by index\n",
        "x = point[0]  # x will be 10\n",
        "x"
      ],
      "metadata": {
        "id": "BRvuIb_4DCO3",
        "colab": {
          "base_uri": "https://localhost:8080/"
        },
        "outputId": "0dfceb6d-7958-49fc-c34c-689fba7babe8"
      },
      "execution_count": null,
      "outputs": [
        {
          "output_type": "execute_result",
          "data": {
            "text/plain": [
              "10"
            ]
          },
          "metadata": {},
          "execution_count": 74
        }
      ]
    },
    {
      "cell_type": "code",
      "source": [
        "# Attempting to modify a tuple (will raise an error)\n",
        "point[0] = 5\n",
        "print(point)"
      ],
      "metadata": {
        "id": "a6GxxryoDC-N",
        "colab": {
          "base_uri": "https://localhost:8080/",
          "height": 176
        },
        "outputId": "70f1f590-20a5-439f-82d7-7060bc122e19"
      },
      "execution_count": null,
      "outputs": [
        {
          "output_type": "error",
          "ename": "TypeError",
          "evalue": "'tuple' object does not support item assignment",
          "traceback": [
            "\u001b[0;31m---------------------------------------------------------------------------\u001b[0m",
            "\u001b[0;31mTypeError\u001b[0m                                 Traceback (most recent call last)",
            "\u001b[0;32m<ipython-input-75-fe7afb68036b>\u001b[0m in \u001b[0;36m<cell line: 2>\u001b[0;34m()\u001b[0m\n\u001b[1;32m      1\u001b[0m \u001b[0;31m# Attempting to modify a tuple (will raise an error)\u001b[0m\u001b[0;34m\u001b[0m\u001b[0;34m\u001b[0m\u001b[0m\n\u001b[0;32m----> 2\u001b[0;31m \u001b[0mpoint\u001b[0m\u001b[0;34m[\u001b[0m\u001b[0;36m0\u001b[0m\u001b[0;34m]\u001b[0m \u001b[0;34m=\u001b[0m \u001b[0;36m5\u001b[0m\u001b[0;34m\u001b[0m\u001b[0;34m\u001b[0m\u001b[0m\n\u001b[0m\u001b[1;32m      3\u001b[0m \u001b[0mprint\u001b[0m\u001b[0;34m(\u001b[0m\u001b[0mpoint\u001b[0m\u001b[0;34m)\u001b[0m\u001b[0;34m\u001b[0m\u001b[0;34m\u001b[0m\u001b[0m\n",
            "\u001b[0;31mTypeError\u001b[0m: 'tuple' object does not support item assignment"
          ]
        }
      ]
    },
    {
      "cell_type": "markdown",
      "source": [
        "## 5.3 Dictionaries"
      ],
      "metadata": {
        "id": "mzy5CZkT8qMj"
      }
    },
    {
      "cell_type": "code",
      "source": [
        "dict1 = {'key1':'value1','key2':'value1','key3':'value1'}"
      ],
      "metadata": {
        "id": "CpALAElMjtuZ"
      },
      "execution_count": null,
      "outputs": []
    },
    {
      "cell_type": "code",
      "source": [
        "dict1"
      ],
      "metadata": {
        "colab": {
          "base_uri": "https://localhost:8080/"
        },
        "id": "DSlrNmK5j-zf",
        "outputId": "dbf5ef50-bce3-4b24-e5ce-c96580fa60ee"
      },
      "execution_count": null,
      "outputs": [
        {
          "output_type": "execute_result",
          "data": {
            "text/plain": [
              "{'key1': 'value1', 'key2': 'value1', 'key3': 'value1'}"
            ]
          },
          "metadata": {},
          "execution_count": 86
        }
      ]
    },
    {
      "cell_type": "code",
      "source": [
        "type(dict1)"
      ],
      "metadata": {
        "colab": {
          "base_uri": "https://localhost:8080/"
        },
        "id": "LgUmHqPxkBZk",
        "outputId": "ddf164ff-5533-4c5b-b702-dba0fe978c51"
      },
      "execution_count": null,
      "outputs": [
        {
          "output_type": "execute_result",
          "data": {
            "text/plain": [
              "dict"
            ]
          },
          "metadata": {},
          "execution_count": 87
        }
      ]
    },
    {
      "cell_type": "code",
      "source": [],
      "metadata": {
        "id": "dVAheQuQkBE7"
      },
      "execution_count": null,
      "outputs": []
    },
    {
      "cell_type": "code",
      "source": [
        "# Creating a dictionary of student information\n",
        "student = {\"name\": \"Alice\", \"age\": 25, \"major\": \"Computer Science\",0:[2,3]}"
      ],
      "metadata": {
        "id": "z0ept_iU8tEf"
      },
      "execution_count": null,
      "outputs": []
    },
    {
      "cell_type": "code",
      "source": [
        "student"
      ],
      "metadata": {
        "colab": {
          "base_uri": "https://localhost:8080/"
        },
        "id": "M8qXcQNdlKhr",
        "outputId": "b3a2cfbf-cca1-4bcc-9b13-2742feb1b3a9"
      },
      "execution_count": null,
      "outputs": [
        {
          "output_type": "execute_result",
          "data": {
            "text/plain": [
              "{'name': 'Alice', 'age': 25, 'major': 'Computer Science', 0: [2, 3]}"
            ]
          },
          "metadata": {},
          "execution_count": 104
        }
      ]
    },
    {
      "cell_type": "code",
      "source": [
        "student.values()"
      ],
      "metadata": {
        "colab": {
          "base_uri": "https://localhost:8080/"
        },
        "id": "-yMvgSlzjH8j",
        "outputId": "0a102ad4-1998-48fc-fa56-b5e67a217221"
      },
      "execution_count": null,
      "outputs": [
        {
          "output_type": "execute_result",
          "data": {
            "text/plain": [
              "dict_values(['Alice', 25, 'Computer Science'])"
            ]
          },
          "metadata": {},
          "execution_count": 81
        }
      ]
    },
    {
      "cell_type": "code",
      "source": [
        "student[0]"
      ],
      "metadata": {
        "colab": {
          "base_uri": "https://localhost:8080/"
        },
        "id": "aCr5SyJ7jeXk",
        "outputId": "0c7ee414-8859-4e7b-a202-95aebef70088"
      },
      "execution_count": null,
      "outputs": [
        {
          "output_type": "execute_result",
          "data": {
            "text/plain": [
              "[2, 3]"
            ]
          },
          "metadata": {},
          "execution_count": 84
        }
      ]
    },
    {
      "cell_type": "code",
      "source": [
        "student.keys()"
      ],
      "metadata": {
        "colab": {
          "base_uri": "https://localhost:8080/"
        },
        "id": "6l_GftrZkFvZ",
        "outputId": "4c0aed7a-c448-47ce-d9ff-f5420e8f8ae7"
      },
      "execution_count": null,
      "outputs": [
        {
          "output_type": "execute_result",
          "data": {
            "text/plain": [
              "dict_keys(['name', 'age', 'major', 0])"
            ]
          },
          "metadata": {},
          "execution_count": 88
        }
      ]
    },
    {
      "cell_type": "code",
      "source": [
        "student.values()"
      ],
      "metadata": {
        "colab": {
          "base_uri": "https://localhost:8080/"
        },
        "id": "KE7hO_7ukJO2",
        "outputId": "efa9db65-202c-42e8-f498-8ffbed769e6c"
      },
      "execution_count": null,
      "outputs": [
        {
          "output_type": "execute_result",
          "data": {
            "text/plain": [
              "dict_values(['Alice', 25, 'Computer Science', [2, 3]])"
            ]
          },
          "metadata": {},
          "execution_count": 90
        }
      ]
    },
    {
      "cell_type": "code",
      "source": [
        "student.items()"
      ],
      "metadata": {
        "colab": {
          "base_uri": "https://localhost:8080/"
        },
        "id": "FpeyVaCIkO93",
        "outputId": "2f6bd971-945d-4079-de32-e4dd625cdf4e"
      },
      "execution_count": null,
      "outputs": [
        {
          "output_type": "execute_result",
          "data": {
            "text/plain": [
              "dict_items([('name', 'Alice'), ('age', 25), ('major', 'Computer Science'), (0, [2, 3])])"
            ]
          },
          "metadata": {},
          "execution_count": 91
        }
      ]
    },
    {
      "cell_type": "code",
      "source": [
        "# Accessing value by key\n",
        "print(student[\"name\"])  # Output: \"Alice\"\n",
        "\n",
        "# Modifying value\n",
        "student[\"age\"] = 26"
      ],
      "metadata": {
        "id": "fqVKV45LDHud",
        "colab": {
          "base_uri": "https://localhost:8080/"
        },
        "outputId": "a6340cad-226c-4722-d0eb-72f60b5f2e57"
      },
      "execution_count": null,
      "outputs": [
        {
          "output_type": "stream",
          "name": "stdout",
          "text": [
            "Alice\n"
          ]
        }
      ]
    },
    {
      "cell_type": "code",
      "source": [
        "# Adding a new key-value pair\n",
        "student[\"gpa\"] = 3.5\n",
        "\n",
        "# Deleting a key-value pair\n",
        "del student[\"major\"]\n",
        "\n",
        "print(student)"
      ],
      "metadata": {
        "id": "cE7_DCydDIpu",
        "colab": {
          "base_uri": "https://localhost:8080/",
          "height": 211
        },
        "outputId": "fdd55e8b-8d44-46bf-9849-c82ba23f47c4"
      },
      "execution_count": null,
      "outputs": [
        {
          "output_type": "error",
          "ename": "KeyError",
          "evalue": "'major'",
          "traceback": [
            "\u001b[0;31m---------------------------------------------------------------------------\u001b[0m",
            "\u001b[0;31mKeyError\u001b[0m                                  Traceback (most recent call last)",
            "\u001b[0;32m<ipython-input-106-7526fbea81c1>\u001b[0m in \u001b[0;36m<cell line: 5>\u001b[0;34m()\u001b[0m\n\u001b[1;32m      3\u001b[0m \u001b[0;34m\u001b[0m\u001b[0m\n\u001b[1;32m      4\u001b[0m \u001b[0;31m# Deleting a key-value pair\u001b[0m\u001b[0;34m\u001b[0m\u001b[0;34m\u001b[0m\u001b[0m\n\u001b[0;32m----> 5\u001b[0;31m \u001b[0;32mdel\u001b[0m \u001b[0mstudent\u001b[0m\u001b[0;34m[\u001b[0m\u001b[0;34m\"major\"\u001b[0m\u001b[0;34m]\u001b[0m\u001b[0;34m\u001b[0m\u001b[0;34m\u001b[0m\u001b[0m\n\u001b[0m\u001b[1;32m      6\u001b[0m \u001b[0;34m\u001b[0m\u001b[0m\n\u001b[1;32m      7\u001b[0m \u001b[0mprint\u001b[0m\u001b[0;34m(\u001b[0m\u001b[0mstudent\u001b[0m\u001b[0;34m)\u001b[0m\u001b[0;34m\u001b[0m\u001b[0;34m\u001b[0m\u001b[0m\n",
            "\u001b[0;31mKeyError\u001b[0m: 'major'"
          ]
        }
      ]
    },
    {
      "cell_type": "code",
      "source": [
        "student"
      ],
      "metadata": {
        "colab": {
          "base_uri": "https://localhost:8080/"
        },
        "id": "OOTzE1TIkWAM",
        "outputId": "f8afdfb7-b207-44c8-8884-c4d96e385a43"
      },
      "execution_count": null,
      "outputs": [
        {
          "output_type": "execute_result",
          "data": {
            "text/plain": [
              "{'name': 'Alice', 'age': 26, 0: [2, 3], 'gpa': 3.5}"
            ]
          },
          "metadata": {},
          "execution_count": 94
        }
      ]
    },
    {
      "cell_type": "code",
      "source": [
        "student['age']\n",
        "print(student)"
      ],
      "metadata": {
        "colab": {
          "base_uri": "https://localhost:8080/"
        },
        "id": "Vd1PckCwkhzW",
        "outputId": "b42f70ee-f5e7-44a5-d578-162c0da7faaa"
      },
      "execution_count": null,
      "outputs": [
        {
          "output_type": "stream",
          "name": "stdout",
          "text": [
            "{'name': 'Alice', 'age': 26, 0: [2, 3], 'gpa': 3.5}\n"
          ]
        }
      ]
    },
    {
      "cell_type": "code",
      "source": [],
      "metadata": {
        "id": "b3szHbzGkmJm"
      },
      "execution_count": null,
      "outputs": []
    },
    {
      "cell_type": "markdown",
      "source": [
        "## 5.4 Sets"
      ],
      "metadata": {
        "id": "XEbO4h2q8tbR"
      }
    },
    {
      "cell_type": "code",
      "source": [
        "# Creating a set of unique numbers\n",
        "numbers = {1, 2, 3, 4, 5,2,2,2,2}"
      ],
      "metadata": {
        "id": "crgtrP2G8urY"
      },
      "execution_count": null,
      "outputs": []
    },
    {
      "cell_type": "code",
      "source": [
        "print(numbers)\n",
        "type(numbers)"
      ],
      "metadata": {
        "colab": {
          "base_uri": "https://localhost:8080/"
        },
        "id": "dUuMxQYVk4lN",
        "outputId": "3de049ba-aadd-488e-ab90-b0b9fffeb832"
      },
      "execution_count": null,
      "outputs": [
        {
          "output_type": "stream",
          "name": "stdout",
          "text": [
            "{1, 2, 3, 4, 5}\n"
          ]
        },
        {
          "output_type": "execute_result",
          "data": {
            "text/plain": [
              "set"
            ]
          },
          "metadata": {},
          "execution_count": 110
        }
      ]
    },
    {
      "cell_type": "code",
      "source": [
        "# Adding an element\n",
        "numbers.add(6)\n",
        "print(numbers)\n",
        "# Removing an element\n",
        "numbers.remove(3)\n",
        "print(numbers)"
      ],
      "metadata": {
        "id": "NKR5XvV5DL1M",
        "colab": {
          "base_uri": "https://localhost:8080/"
        },
        "outputId": "f51b0d9f-200c-4519-c8b8-c914c2194407"
      },
      "execution_count": null,
      "outputs": [
        {
          "output_type": "stream",
          "name": "stdout",
          "text": [
            "{1, 2, 3, 4, 5, 6}\n",
            "{1, 2, 4, 5, 6}\n"
          ]
        }
      ]
    },
    {
      "cell_type": "code",
      "source": [
        "# Union of two sets\n",
        "set1 = {1, 2, 3}\n",
        "set2 = {3, 4, 5}\n",
        "union_set = set1 | set2 #Or operation\n",
        "print(union_set)\n",
        "\n",
        "# Intersection of two sets\n",
        "intersection_set = set1 & set2 # And operation\n",
        "print(intersection_set)"
      ],
      "metadata": {
        "id": "z3pgqoeTDNcM",
        "colab": {
          "base_uri": "https://localhost:8080/"
        },
        "outputId": "1c4fd250-9792-4a6e-dc34-32b9db810650"
      },
      "execution_count": null,
      "outputs": [
        {
          "output_type": "stream",
          "name": "stdout",
          "text": [
            "{1, 2, 3, 4, 5}\n",
            "{3}\n"
          ]
        }
      ]
    },
    {
      "cell_type": "markdown",
      "source": [
        "# 6.Indexing and Slicing\n",
        "\n",
        "Indexing and slicing are techniques used to access specific elements or subsequences from data structures like lists and tuples in Python. Mastering these techniques allows efficient manipulation and extraction of data elements based on their position within a collection."
      ],
      "metadata": {
        "id": "8aDJXa6C8vss"
      }
    },
    {
      "cell_type": "markdown",
      "source": [
        "## 6.1.Indexing"
      ],
      "metadata": {
        "id": "FhGUkvFg89tb"
      }
    },
    {
      "cell_type": "code",
      "source": [
        "# Accessing specific elements in a list\n",
        "numbers = [1, 2, 3, 4, 5]\n",
        "print(numbers[0])"
      ],
      "metadata": {
        "id": "D5LMn-4V83W9",
        "colab": {
          "base_uri": "https://localhost:8080/"
        },
        "outputId": "3f0a1a07-7a2d-48ac-bb8f-6404542607bd"
      },
      "execution_count": null,
      "outputs": [
        {
          "output_type": "stream",
          "name": "stdout",
          "text": [
            "1\n"
          ]
        }
      ]
    },
    {
      "cell_type": "markdown",
      "source": [
        "## 6.2.Slicing"
      ],
      "metadata": {
        "id": "vKt_JjVo9ANh"
      }
    },
    {
      "cell_type": "code",
      "source": [
        "# Slicing a list to get a subset\n",
        "numbers = [1, 2, 3, 4, 5]\n",
        "subset = numbers[1:4]\n",
        "print(subset)"
      ],
      "metadata": {
        "id": "K1WN1oBU9BVF",
        "colab": {
          "base_uri": "https://localhost:8080/"
        },
        "outputId": "36cb50b2-b47b-4a55-ee09-3a90fe07901f"
      },
      "execution_count": null,
      "outputs": [
        {
          "output_type": "stream",
          "name": "stdout",
          "text": [
            "[2, 3, 4]\n"
          ]
        }
      ]
    },
    {
      "cell_type": "code",
      "source": [
        "numbers[0:2]"
      ],
      "metadata": {
        "colab": {
          "base_uri": "https://localhost:8080/"
        },
        "id": "D46kAtwVqr-y",
        "outputId": "02c8bd01-930f-44d2-9e0f-88efddfed5d7"
      },
      "execution_count": null,
      "outputs": [
        {
          "output_type": "execute_result",
          "data": {
            "text/plain": [
              "[1, 2]"
            ]
          },
          "metadata": {},
          "execution_count": 115
        }
      ]
    },
    {
      "cell_type": "code",
      "source": [
        "numbers[0:3]"
      ],
      "metadata": {
        "colab": {
          "base_uri": "https://localhost:8080/"
        },
        "id": "y4CJbGlEq4lv",
        "outputId": "b6ac4db9-2b73-413e-848a-93c69ead1406"
      },
      "execution_count": null,
      "outputs": [
        {
          "output_type": "execute_result",
          "data": {
            "text/plain": [
              "[1, 2, 3]"
            ]
          },
          "metadata": {},
          "execution_count": 116
        }
      ]
    },
    {
      "cell_type": "code",
      "source": [
        "numbers[1:4]"
      ],
      "metadata": {
        "colab": {
          "base_uri": "https://localhost:8080/"
        },
        "id": "qNGGz9Bjq69R",
        "outputId": "33405a38-006e-4592-befc-8f322c225fe3"
      },
      "execution_count": null,
      "outputs": [
        {
          "output_type": "execute_result",
          "data": {
            "text/plain": [
              "[2, 3, 4]"
            ]
          },
          "metadata": {},
          "execution_count": 118
        }
      ]
    },
    {
      "cell_type": "code",
      "source": [
        "numbers[2:]"
      ],
      "metadata": {
        "colab": {
          "base_uri": "https://localhost:8080/"
        },
        "id": "539blzlfq-Ja",
        "outputId": "c5ff37c6-de64-4a00-dd45-d4f91e345ae5"
      },
      "execution_count": null,
      "outputs": [
        {
          "output_type": "execute_result",
          "data": {
            "text/plain": [
              "[3, 4, 5]"
            ]
          },
          "metadata": {},
          "execution_count": 119
        }
      ]
    },
    {
      "cell_type": "code",
      "source": [
        "numbers[:3]"
      ],
      "metadata": {
        "colab": {
          "base_uri": "https://localhost:8080/"
        },
        "id": "wrGwAWdprDZ2",
        "outputId": "b9dbaa3c-4a42-4a7f-a5b1-5741a988cadc"
      },
      "execution_count": null,
      "outputs": [
        {
          "output_type": "execute_result",
          "data": {
            "text/plain": [
              "[1, 2, 3]"
            ]
          },
          "metadata": {},
          "execution_count": 120
        }
      ]
    },
    {
      "cell_type": "code",
      "source": [
        "numbers[-2]"
      ],
      "metadata": {
        "colab": {
          "base_uri": "https://localhost:8080/"
        },
        "id": "JeEzmV9trHgx",
        "outputId": "ff4122df-9c3b-451b-cc6d-c7d0c0c20c09"
      },
      "execution_count": null,
      "outputs": [
        {
          "output_type": "execute_result",
          "data": {
            "text/plain": [
              "4"
            ]
          },
          "metadata": {},
          "execution_count": 124
        }
      ]
    },
    {
      "cell_type": "code",
      "source": [
        "numbers[:-2]"
      ],
      "metadata": {
        "colab": {
          "base_uri": "https://localhost:8080/"
        },
        "id": "uZbn8-b5rKiu",
        "outputId": "b1a59882-7b4d-4823-cc17-323d757dea27"
      },
      "execution_count": null,
      "outputs": [
        {
          "output_type": "execute_result",
          "data": {
            "text/plain": [
              "[1, 2, 3]"
            ]
          },
          "metadata": {},
          "execution_count": 122
        }
      ]
    },
    {
      "cell_type": "code",
      "source": [
        "numbers[-2:]"
      ],
      "metadata": {
        "colab": {
          "base_uri": "https://localhost:8080/"
        },
        "id": "pMhFUyTXrPVu",
        "outputId": "f1a7653c-9860-441a-f29d-09dfd514bced"
      },
      "execution_count": null,
      "outputs": [
        {
          "output_type": "execute_result",
          "data": {
            "text/plain": [
              "[4, 5]"
            ]
          },
          "metadata": {},
          "execution_count": 123
        }
      ]
    },
    {
      "cell_type": "markdown",
      "source": [
        "# 7.Comprehensions\n",
        "\n",
        "Comprehensions in Python provide a concise way to create collections (lists, dictionaries, sets) by applying operations to each element or item in an iterable. They enhance readability and are often more efficient than traditional looping techniques."
      ],
      "metadata": {
        "id": "-3mu43Sg9EWt"
      }
    },
    {
      "cell_type": "markdown",
      "source": [
        "## 7.1.List Comprehension"
      ],
      "metadata": {
        "id": "oYSGTt6A9Jfc"
      }
    },
    {
      "cell_type": "code",
      "source": [
        "numbers"
      ],
      "metadata": {
        "colab": {
          "base_uri": "https://localhost:8080/"
        },
        "id": "RACJRIFIs8g3",
        "outputId": "8bf7ecde-364f-4d43-c88e-42761b83f906"
      },
      "execution_count": null,
      "outputs": [
        {
          "output_type": "execute_result",
          "data": {
            "text/plain": [
              "[1, 2, 3, 4, 5]"
            ]
          },
          "metadata": {},
          "execution_count": 125
        }
      ]
    },
    {
      "cell_type": "code",
      "source": [
        "for i in numbers:\n",
        "  print(i**2)"
      ],
      "metadata": {
        "colab": {
          "base_uri": "https://localhost:8080/"
        },
        "id": "wrOlGJC1s_MY",
        "outputId": "e8873429-2c32-485a-f850-03e76662c7f6"
      },
      "execution_count": null,
      "outputs": [
        {
          "output_type": "stream",
          "name": "stdout",
          "text": [
            "1\n",
            "4\n",
            "9\n",
            "16\n",
            "25\n"
          ]
        }
      ]
    },
    {
      "cell_type": "code",
      "source": [
        "numbers * 2"
      ],
      "metadata": {
        "colab": {
          "base_uri": "https://localhost:8080/"
        },
        "id": "TfG1IGfgtN7q",
        "outputId": "24e476e5-6064-4b04-e62e-034ea9c58a8d"
      },
      "execution_count": null,
      "outputs": [
        {
          "output_type": "execute_result",
          "data": {
            "text/plain": [
              "[1, 2, 3, 4, 5, 1, 2, 3, 4, 5]"
            ]
          },
          "metadata": {},
          "execution_count": 129
        }
      ]
    },
    {
      "cell_type": "code",
      "source": [
        "[element * 2 for element in numbers if element == 4]"
      ],
      "metadata": {
        "colab": {
          "base_uri": "https://localhost:8080/"
        },
        "id": "r6LDcPmatbEN",
        "outputId": "5abb5f4d-b492-4ad7-dce2-59aed9de6ae9"
      },
      "execution_count": null,
      "outputs": [
        {
          "output_type": "execute_result",
          "data": {
            "text/plain": [
              "[8]"
            ]
          },
          "metadata": {},
          "execution_count": 135
        }
      ]
    },
    {
      "cell_type": "code",
      "source": [
        "numbers"
      ],
      "metadata": {
        "colab": {
          "base_uri": "https://localhost:8080/"
        },
        "id": "mVCqHWSjuJXg",
        "outputId": "e3dbcf58-ea2b-4d59-bc97-cd8e002c6000"
      },
      "execution_count": null,
      "outputs": [
        {
          "output_type": "execute_result",
          "data": {
            "text/plain": [
              "[1, 2, 3, 4, 5]"
            ]
          },
          "metadata": {},
          "execution_count": 136
        }
      ]
    },
    {
      "cell_type": "code",
      "source": [
        "list1 = list(range(1, 6))\n",
        "list1"
      ],
      "metadata": {
        "colab": {
          "base_uri": "https://localhost:8080/"
        },
        "id": "Nqhrm0x_tsq9",
        "outputId": "6234fdac-69a9-4c7c-eb14-e3630636b683"
      },
      "execution_count": null,
      "outputs": [
        {
          "output_type": "execute_result",
          "data": {
            "text/plain": [
              "[1, 2, 3, 4, 5]"
            ]
          },
          "metadata": {},
          "execution_count": 133
        }
      ]
    },
    {
      "cell_type": "code",
      "source": [
        "# Creating a list of squares\n",
        "squares = [x ** 2 for x in range(1, 6)]\n",
        "squares"
      ],
      "metadata": {
        "id": "NKron2wV9GU_",
        "colab": {
          "base_uri": "https://localhost:8080/"
        },
        "outputId": "077f4534-0536-425c-f519-2c401fc8f1b2"
      },
      "execution_count": null,
      "outputs": [
        {
          "output_type": "execute_result",
          "data": {
            "text/plain": [
              "[1, 4, 9, 16, 25]"
            ]
          },
          "metadata": {},
          "execution_count": 134
        }
      ]
    },
    {
      "cell_type": "markdown",
      "source": [
        "## 7.2.Dictionary Comprehension"
      ],
      "metadata": {
        "id": "l7L5ykwi9Nw4"
      }
    },
    {
      "cell_type": "code",
      "source": [
        "{x:x**2 for x in list1 if x % 2 == 0}"
      ],
      "metadata": {
        "colab": {
          "base_uri": "https://localhost:8080/"
        },
        "id": "QZFpRd4auiin",
        "outputId": "fb24094c-657c-4450-f6fa-63f15a05746b"
      },
      "execution_count": null,
      "outputs": [
        {
          "output_type": "execute_result",
          "data": {
            "text/plain": [
              "{2: 4, 4: 16}"
            ]
          },
          "metadata": {},
          "execution_count": 139
        }
      ]
    },
    {
      "cell_type": "code",
      "source": [
        "# Creating a dictionary of even numbers and their squares\n",
        "even_squares = {x: x ** 2 for x in list1 if x % 2 == 0}\n",
        "even_squares"
      ],
      "metadata": {
        "id": "a7AHz-J79Pmr",
        "colab": {
          "base_uri": "https://localhost:8080/"
        },
        "outputId": "d755a05a-769c-4864-cecc-1799ae6fbb45"
      },
      "execution_count": null,
      "outputs": [
        {
          "output_type": "execute_result",
          "data": {
            "text/plain": [
              "{2: 4, 4: 16}"
            ]
          },
          "metadata": {},
          "execution_count": 138
        }
      ]
    },
    {
      "cell_type": "code",
      "source": [
        "even_squares.items()"
      ],
      "metadata": {
        "colab": {
          "base_uri": "https://localhost:8080/"
        },
        "id": "IgSCDBHLvQDR",
        "outputId": "5a0ac3e5-879c-49d5-a67c-af2b0c32309f"
      },
      "execution_count": null,
      "outputs": [
        {
          "output_type": "execute_result",
          "data": {
            "text/plain": [
              "dict_items([(2, 4), (4, 16)])"
            ]
          },
          "metadata": {},
          "execution_count": 142
        }
      ]
    },
    {
      "cell_type": "code",
      "source": [
        "even_squares.keys()"
      ],
      "metadata": {
        "colab": {
          "base_uri": "https://localhost:8080/"
        },
        "id": "Tbx7P_YIvRrh",
        "outputId": "5310e582-bacb-410e-9f51-fedbd630d81a"
      },
      "execution_count": null,
      "outputs": [
        {
          "output_type": "execute_result",
          "data": {
            "text/plain": [
              "dict_keys([2, 4])"
            ]
          },
          "metadata": {},
          "execution_count": 143
        }
      ]
    },
    {
      "cell_type": "code",
      "source": [
        "even_squares.values()"
      ],
      "metadata": {
        "colab": {
          "base_uri": "https://localhost:8080/"
        },
        "id": "vVi0Pg2MvUAx",
        "outputId": "01bfa230-c278-4721-8156-0a87c6342733"
      },
      "execution_count": null,
      "outputs": [
        {
          "output_type": "execute_result",
          "data": {
            "text/plain": [
              "dict_values([4, 16])"
            ]
          },
          "metadata": {},
          "execution_count": 144
        }
      ]
    },
    {
      "cell_type": "code",
      "source": [
        "{key:value*10 for key,value in even_squares.items()}"
      ],
      "metadata": {
        "colab": {
          "base_uri": "https://localhost:8080/"
        },
        "id": "4SQUbLEtu9pm",
        "outputId": "ba2e125a-41da-48d5-ca6d-4f4ae09609b2"
      },
      "execution_count": null,
      "outputs": [
        {
          "output_type": "execute_result",
          "data": {
            "text/plain": [
              "{2: 40, 4: 160}"
            ]
          },
          "metadata": {},
          "execution_count": 156
        }
      ]
    },
    {
      "cell_type": "code",
      "source": [
        "for key,value in even_squares.items():\n",
        "  a = print(value)\n",
        "  print(a)"
      ],
      "metadata": {
        "colab": {
          "base_uri": "https://localhost:8080/"
        },
        "id": "d0ClcE52xa15",
        "outputId": "87a16f0e-16d9-41a4-adb3-be1690d589af"
      },
      "execution_count": null,
      "outputs": [
        {
          "output_type": "stream",
          "name": "stdout",
          "text": [
            "4\n",
            "None\n",
            "16\n",
            "None\n"
          ]
        }
      ]
    },
    {
      "cell_type": "code",
      "source": [
        "[value*10 for value in even_squares.values()]"
      ],
      "metadata": {
        "colab": {
          "base_uri": "https://localhost:8080/"
        },
        "id": "Z1UHw_YWwi0m",
        "outputId": "d9b21e1e-1590-4455-e67e-19c909155cb4"
      },
      "execution_count": null,
      "outputs": [
        {
          "output_type": "execute_result",
          "data": {
            "text/plain": [
              "[40, 160]"
            ]
          },
          "metadata": {},
          "execution_count": 149
        }
      ]
    },
    {
      "cell_type": "code",
      "source": [
        "[even_squares[key]*10 for key in even_squares.keys()]"
      ],
      "metadata": {
        "colab": {
          "base_uri": "https://localhost:8080/"
        },
        "id": "Cmf4V6riwoA-",
        "outputId": "df285a1a-ea03-4365-ae5b-52a821882257"
      },
      "execution_count": null,
      "outputs": [
        {
          "output_type": "execute_result",
          "data": {
            "text/plain": [
              "[40, 160]"
            ]
          },
          "metadata": {},
          "execution_count": 164
        }
      ]
    },
    {
      "cell_type": "markdown",
      "source": [
        "## 7.3.Set Comprehension"
      ],
      "metadata": {
        "id": "Nzma1GSn9Ql7"
      }
    },
    {
      "cell_type": "code",
      "source": [
        "# Creating a set of vowels in a sentence\n",
        "sentence = \"Hello, world!\"\n",
        "vowels = {char for char in sentence if char.lower() in 'aeiou'}"
      ],
      "metadata": {
        "id": "RYGRSbSp9TVo"
      },
      "execution_count": null,
      "outputs": []
    },
    {
      "cell_type": "markdown",
      "source": [
        "# 8.Iteration and Mutation of Data Structures\n",
        "\n",
        "Iteration and mutation are fundamental concepts in Python for traversing data structures like lists, tuples, dictionaries, and sets, and for modifying their elements. Understanding how to iterate through elements and safely modify data structures ensures efficient and error-free program execution."
      ],
      "metadata": {
        "id": "zCezeAcn9V3M"
      }
    },
    {
      "cell_type": "markdown",
      "source": [
        "## 8.1.Iteration through a List"
      ],
      "metadata": {
        "id": "709YT1FG9dJY"
      }
    },
    {
      "cell_type": "code",
      "source": [
        "# Iterating through a list\n",
        "numbers = [1, 2, 3, 4, 5]\n",
        "for num in numbers:\n",
        "    print(num)"
      ],
      "metadata": {
        "id": "7P59TrhH9ZaQ"
      },
      "execution_count": null,
      "outputs": []
    },
    {
      "cell_type": "markdown",
      "source": [
        "## 8.2.Mutation of a List"
      ],
      "metadata": {
        "id": "UeABHK6B9ez5"
      }
    },
    {
      "cell_type": "code",
      "source": [
        "# Modifying elements in a list\n",
        "numbers = [1, 2, 3, 4, 5]\n",
        "for i in range(len(numbers)):\n",
        "    numbers[i] *= 2\n",
        "print(numbers)"
      ],
      "metadata": {
        "id": "gKi_fAXi9hgf",
        "colab": {
          "base_uri": "https://localhost:8080/"
        },
        "outputId": "dc22d8e9-44d3-4d71-bdf5-891cdf17fc29"
      },
      "execution_count": null,
      "outputs": [
        {
          "output_type": "stream",
          "name": "stdout",
          "text": [
            "[2, 4, 6, 8, 10]\n"
          ]
        }
      ]
    },
    {
      "cell_type": "code",
      "source": [],
      "metadata": {
        "id": "TGgenx86y270"
      },
      "execution_count": null,
      "outputs": []
    },
    {
      "cell_type": "markdown",
      "source": [
        "## 8.3.Iteration through a Dictionary"
      ],
      "metadata": {
        "id": "RTP8yQUE9h7e"
      }
    },
    {
      "cell_type": "code",
      "source": [
        "# Iterating through a dictionary\n",
        "student = {\"name\": \"Alice\", \"age\": 25, \"major\": \"Computer Science\"}\n",
        "for key, value in student.items():\n",
        "    print(f\"{key}: {value}\")"
      ],
      "metadata": {
        "id": "Djl5tp6a9lT3"
      },
      "execution_count": null,
      "outputs": []
    }
  ]
}